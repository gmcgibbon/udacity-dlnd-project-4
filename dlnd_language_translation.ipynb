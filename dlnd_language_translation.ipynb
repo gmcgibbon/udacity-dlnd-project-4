{
 "cells": [
  {
   "cell_type": "markdown",
   "metadata": {
    "collapsed": true,
    "deletable": true,
    "editable": true
   },
   "source": [
    "# Language Translation\n",
    "In this project, you’re going to take a peek into the realm of neural network machine translation.  You’ll be training a sequence to sequence model on a dataset of English and French sentences that can translate new sentences from English to French.\n",
    "## Get the Data\n",
    "Since translating the whole language of English to French will take lots of time to train, we have provided you with a small portion of the English corpus."
   ]
  },
  {
   "cell_type": "code",
   "execution_count": 1,
   "metadata": {
    "collapsed": false,
    "deletable": true,
    "editable": true
   },
   "outputs": [],
   "source": [
    "\"\"\"\n",
    "DON'T MODIFY ANYTHING IN THIS CELL\n",
    "\"\"\"\n",
    "import helper\n",
    "import problem_unittests as tests\n",
    "\n",
    "source_path = 'data/small_vocab_en'\n",
    "target_path = 'data/small_vocab_fr'\n",
    "source_text = helper.load_data(source_path)\n",
    "target_text = helper.load_data(target_path)"
   ]
  },
  {
   "cell_type": "markdown",
   "metadata": {
    "deletable": true,
    "editable": true
   },
   "source": [
    "## Explore the Data\n",
    "Play around with view_sentence_range to view different parts of the data."
   ]
  },
  {
   "cell_type": "code",
   "execution_count": 2,
   "metadata": {
    "collapsed": false,
    "deletable": true,
    "editable": true
   },
   "outputs": [
    {
     "name": "stdout",
     "output_type": "stream",
     "text": [
      "Dataset Stats\n",
      "Roughly the number of unique words: 227\n",
      "Number of sentences: 137861\n",
      "Average number of words in a sentence: 13.225277634719028\n",
      "\n",
      "English sentences 0 to 10:\n",
      "new jersey is sometimes quiet during autumn , and it is snowy in april .\n",
      "the united states is usually chilly during july , and it is usually freezing in november .\n",
      "california is usually quiet during march , and it is usually hot in june .\n",
      "the united states is sometimes mild during june , and it is cold in september .\n",
      "your least liked fruit is the grape , but my least liked is the apple .\n",
      "his favorite fruit is the orange , but my favorite is the grape .\n",
      "paris is relaxing during december , but it is usually chilly in july .\n",
      "new jersey is busy during spring , and it is never hot in march .\n",
      "our least liked fruit is the lemon , but my least liked is the grape .\n",
      "the united states is sometimes busy during january , and it is sometimes warm in november .\n",
      "\n",
      "French sentences 0 to 10:\n",
      "new jersey est parfois calme pendant l' automne , et il est neigeux en avril .\n",
      "les états-unis est généralement froid en juillet , et il gèle habituellement en novembre .\n",
      "california est généralement calme en mars , et il est généralement chaud en juin .\n",
      "les états-unis est parfois légère en juin , et il fait froid en septembre .\n",
      "votre moins aimé fruit est le raisin , mais mon moins aimé est la pomme .\n",
      "son fruit préféré est l'orange , mais mon préféré est le raisin .\n",
      "paris est relaxant en décembre , mais il est généralement froid en juillet .\n",
      "new jersey est occupé au printemps , et il est jamais chaude en mars .\n",
      "notre fruit est moins aimé le citron , mais mon moins aimé est le raisin .\n",
      "les états-unis est parfois occupé en janvier , et il est parfois chaud en novembre .\n"
     ]
    }
   ],
   "source": [
    "view_sentence_range = (0, 10)\n",
    "\n",
    "\"\"\"\n",
    "DON'T MODIFY ANYTHING IN THIS CELL\n",
    "\"\"\"\n",
    "import numpy as np\n",
    "\n",
    "print('Dataset Stats')\n",
    "print('Roughly the number of unique words: {}'.format(len({word: None for word in source_text.split()})))\n",
    "\n",
    "sentences = source_text.split('\\n')\n",
    "word_counts = [len(sentence.split()) for sentence in sentences]\n",
    "print('Number of sentences: {}'.format(len(sentences)))\n",
    "print('Average number of words in a sentence: {}'.format(np.average(word_counts)))\n",
    "\n",
    "print()\n",
    "print('English sentences {} to {}:'.format(*view_sentence_range))\n",
    "print('\\n'.join(source_text.split('\\n')[view_sentence_range[0]:view_sentence_range[1]]))\n",
    "print()\n",
    "print('French sentences {} to {}:'.format(*view_sentence_range))\n",
    "print('\\n'.join(target_text.split('\\n')[view_sentence_range[0]:view_sentence_range[1]]))"
   ]
  },
  {
   "cell_type": "markdown",
   "metadata": {
    "deletable": true,
    "editable": true
   },
   "source": [
    "## Implement Preprocessing Function\n",
    "### Text to Word Ids\n",
    "As you did with other RNNs, you must turn the text into a number so the computer can understand it. In the function `text_to_ids()`, you'll turn `source_text` and `target_text` from words to ids.  However, you need to add the `<EOS>` word id at the end of each sentence from `target_text`.  This will help the neural network predict when the sentence should end.\n",
    "\n",
    "You can get the `<EOS>` word id by doing:\n",
    "```python\n",
    "target_vocab_to_int['<EOS>']\n",
    "```\n",
    "You can get other word ids using `source_vocab_to_int` and `target_vocab_to_int`."
   ]
  },
  {
   "cell_type": "code",
   "execution_count": 3,
   "metadata": {
    "collapsed": false,
    "deletable": true,
    "editable": true
   },
   "outputs": [
    {
     "name": "stdout",
     "output_type": "stream",
     "text": [
      "Tests Passed\n"
     ]
    }
   ],
   "source": [
    "GO_VOCAB  = '<GO>'\n",
    "EOS_VOCAB = '<EOS>'\n",
    "UNK_VOCAB = '<UNK>'\n",
    "\n",
    "def text_to_ids(source_text, target_text, source_vocab_to_int, target_vocab_to_int):\n",
    "    \"\"\"\n",
    "    Convert source and target text to proper word ids\n",
    "    :param source_text: String that contains all the source text.\n",
    "    :param target_text: String that contains all the target text.\n",
    "    :param source_vocab_to_int: Dictionary to go from the source words to an id\n",
    "    :param target_vocab_to_int: Dictionary to go from the target words to an id\n",
    "    :return: A tuple of lists (source_id_text, target_id_text)\n",
    "    \"\"\"\n",
    "    # TODO: Implement Function\n",
    "    def valid(word):\n",
    "        return len(word.strip()) > 0\n",
    "    def source_id_text():\n",
    "        return [\n",
    "            [\n",
    "                source_vocab_to_int[word] for word in sentence.split(' ') if valid(word)\n",
    "            ] for sentence in source_text.split('\\n')\n",
    "        ]\n",
    "    def target_id_text():\n",
    "        return [\n",
    "            [\n",
    "                target_vocab_to_int[word] for word in sentence.split(' ') + [EOS_VOCAB] if valid(word)\n",
    "            ] for sentence in target_text.split('\\n')\n",
    "        ]\n",
    "    return (source_id_text(), target_id_text())\n",
    "\n",
    "\"\"\"\n",
    "DON'T MODIFY ANYTHING IN THIS CELL THAT IS BELOW THIS LINE\n",
    "\"\"\"\n",
    "tests.test_text_to_ids(text_to_ids)"
   ]
  },
  {
   "cell_type": "markdown",
   "metadata": {
    "deletable": true,
    "editable": true
   },
   "source": [
    "### Preprocess all the data and save it\n",
    "Running the code cell below will preprocess all the data and save it to file."
   ]
  },
  {
   "cell_type": "code",
   "execution_count": 4,
   "metadata": {
    "collapsed": false,
    "deletable": true,
    "editable": true
   },
   "outputs": [],
   "source": [
    "\"\"\"\n",
    "DON'T MODIFY ANYTHING IN THIS CELL\n",
    "\"\"\"\n",
    "helper.preprocess_and_save_data(source_path, target_path, text_to_ids)"
   ]
  },
  {
   "cell_type": "markdown",
   "metadata": {
    "deletable": true,
    "editable": true
   },
   "source": [
    "# Check Point\n",
    "This is your first checkpoint. If you ever decide to come back to this notebook or have to restart the notebook, you can start from here. The preprocessed data has been saved to disk."
   ]
  },
  {
   "cell_type": "code",
   "execution_count": 5,
   "metadata": {
    "collapsed": false,
    "deletable": true,
    "editable": true
   },
   "outputs": [],
   "source": [
    "\"\"\"\n",
    "DON'T MODIFY ANYTHING IN THIS CELL\n",
    "\"\"\"\n",
    "import numpy as np\n",
    "import helper\n",
    "\n",
    "(source_int_text, target_int_text), (source_vocab_to_int, target_vocab_to_int), _ = helper.load_preprocess()"
   ]
  },
  {
   "cell_type": "markdown",
   "metadata": {
    "deletable": true,
    "editable": true
   },
   "source": [
    "### Check the Version of TensorFlow and Access to GPU\n",
    "This will check to make sure you have the correct version of TensorFlow and access to a GPU"
   ]
  },
  {
   "cell_type": "code",
   "execution_count": 6,
   "metadata": {
    "collapsed": false,
    "deletable": true,
    "editable": true
   },
   "outputs": [
    {
     "name": "stdout",
     "output_type": "stream",
     "text": [
      "TensorFlow Version: 1.0.0\n",
      "Default GPU Device: /gpu:0\n"
     ]
    }
   ],
   "source": [
    "\"\"\"\n",
    "DON'T MODIFY ANYTHING IN THIS CELL\n",
    "\"\"\"\n",
    "from distutils.version import LooseVersion\n",
    "import warnings\n",
    "import tensorflow as tf\n",
    "\n",
    "# Check TensorFlow Version\n",
    "assert LooseVersion(tf.__version__) >= LooseVersion('1.0'), 'Please use TensorFlow version 1.0 or newer'\n",
    "print('TensorFlow Version: {}'.format(tf.__version__))\n",
    "\n",
    "# Check for a GPU\n",
    "if not tf.test.gpu_device_name():\n",
    "    warnings.warn('No GPU found. Please use a GPU to train your neural network.')\n",
    "else:\n",
    "    print('Default GPU Device: {}'.format(tf.test.gpu_device_name()))"
   ]
  },
  {
   "cell_type": "markdown",
   "metadata": {
    "deletable": true,
    "editable": true
   },
   "source": [
    "## Build the Neural Network\n",
    "You'll build the components necessary to build a Sequence-to-Sequence model by implementing the following functions below:\n",
    "- `model_inputs`\n",
    "- `process_decoding_input`\n",
    "- `encoding_layer`\n",
    "- `decoding_layer_train`\n",
    "- `decoding_layer_infer`\n",
    "- `decoding_layer`\n",
    "- `seq2seq_model`\n",
    "\n",
    "### Input\n",
    "Implement the `model_inputs()` function to create TF Placeholders for the Neural Network. It should create the following placeholders:\n",
    "\n",
    "- Input text placeholder named \"input\" using the TF Placeholder name parameter with rank 2.\n",
    "- Targets placeholder with rank 2.\n",
    "- Learning rate placeholder with rank 0.\n",
    "- Keep probability placeholder named \"keep_prob\" using the TF Placeholder name parameter with rank 0.\n",
    "\n",
    "Return the placeholders in the following the tuple (Input, Targets, Learing Rate, Keep Probability)"
   ]
  },
  {
   "cell_type": "code",
   "execution_count": 7,
   "metadata": {
    "collapsed": false,
    "deletable": true,
    "editable": true
   },
   "outputs": [
    {
     "name": "stdout",
     "output_type": "stream",
     "text": [
      "Tests Passed\n"
     ]
    }
   ],
   "source": [
    "def model_inputs():\n",
    "    \"\"\"\n",
    "    Create TF Placeholders for input, targets, and learning rate.\n",
    "    :return: Tuple (input, targets, learning rate, keep probability)\n",
    "    \"\"\"\n",
    "    # TODO: Implement Function\n",
    "    input            = tf.placeholder(tf.int32,   shape=(None, None), name='input')\n",
    "    targets          = tf.placeholder(tf.int32,   shape=(None, None), name='targets')\n",
    "    learning_rate    = tf.placeholder(tf.float32, shape=None,         name='learning_rate')\n",
    "    keep_probability = tf.placeholder(tf.float32, shape=None,         name='keep_prob')\n",
    "    return (input, targets, learning_rate, keep_probability)\n",
    "\n",
    "\"\"\"\n",
    "DON'T MODIFY ANYTHING IN THIS CELL THAT IS BELOW THIS LINE\n",
    "\"\"\"\n",
    "tests.test_model_inputs(model_inputs)"
   ]
  },
  {
   "cell_type": "markdown",
   "metadata": {
    "deletable": true,
    "editable": true
   },
   "source": [
    "### Process Decoding Input\n",
    "Implement `process_decoding_input` using TensorFlow to remove the last word id from each batch in `target_data` and concat the GO ID to the begining of each batch."
   ]
  },
  {
   "cell_type": "code",
   "execution_count": 8,
   "metadata": {
    "collapsed": false,
    "deletable": true,
    "editable": true
   },
   "outputs": [
    {
     "name": "stdout",
     "output_type": "stream",
     "text": [
      "Tests Passed\n"
     ]
    }
   ],
   "source": [
    "def process_decoding_input(target_data, target_vocab_to_int, batch_size):\n",
    "    \"\"\"\n",
    "    Preprocess target data for dencoding\n",
    "    :param target_data: Target Placehoder\n",
    "    :param target_vocab_to_int: Dictionary to go from the target words to an id\n",
    "    :param batch_size: Batch Size\n",
    "    :return: Preprocessed target data\n",
    "    \"\"\"\n",
    "    # TODO: Implement Function\n",
    "    # https://github.com/udacity/deep-learning/blob/master/seq2seq/sequence_to_sequence_implementation.ipynb\n",
    "    ending = tf.strided_slice(target_data, [0, 0], [batch_size, -1], [1, 1])\n",
    "    target = tf.concat([tf.fill([batch_size, 1], target_vocab_to_int[GO_VOCAB]), ending], 1)\n",
    "    return target\n",
    "\n",
    "\"\"\"\n",
    "DON'T MODIFY ANYTHING IN THIS CELL THAT IS BELOW THIS LINE\n",
    "\"\"\"\n",
    "tests.test_process_decoding_input(process_decoding_input)"
   ]
  },
  {
   "cell_type": "markdown",
   "metadata": {
    "deletable": true,
    "editable": true
   },
   "source": [
    "### Encoding\n",
    "Implement `encoding_layer()` to create a Encoder RNN layer using [`tf.nn.dynamic_rnn()`](https://www.tensorflow.org/api_docs/python/tf/nn/dynamic_rnn)."
   ]
  },
  {
   "cell_type": "code",
   "execution_count": 45,
   "metadata": {
    "collapsed": false,
    "deletable": true,
    "editable": true
   },
   "outputs": [
    {
     "name": "stdout",
     "output_type": "stream",
     "text": [
      "Tests Passed\n"
     ]
    }
   ],
   "source": [
    "def encoding_layer(rnn_inputs, rnn_size, num_layers, keep_prob):\n",
    "    \"\"\"\n",
    "    Create encoding layer\n",
    "    :param rnn_inputs: Inputs for the RNN\n",
    "    :param rnn_size: RNN Size\n",
    "    :param num_layers: Number of layers\n",
    "    :param keep_prob: Dropout keep probability\n",
    "    :return: RNN state\n",
    "    \"\"\"\n",
    "    # TODO: Implement Function\n",
    "    # https://github.com/udacity/deep-learning/blob/master/seq2seq/sequence_to_sequence_implementation.ipynb\n",
    "    cell     = tf.contrib.rnn.MultiRNNCell([tf.contrib.rnn.BasicLSTMCell(rnn_size)] * num_layers)\n",
    "    cell     = tf.contrib.rnn.DropoutWrapper(cell=cell, output_keep_prob=keep_prob)\n",
    "    _, state = tf.nn.dynamic_rnn(cell, rnn_inputs, dtype=tf.float32)\n",
    "    return state\n",
    "\n",
    "\"\"\"\n",
    "DON'T MODIFY ANYTHING IN THIS CELL THAT IS BELOW THIS LINE\n",
    "\"\"\"\n",
    "tests.test_encoding_layer(encoding_layer)"
   ]
  },
  {
   "cell_type": "markdown",
   "metadata": {
    "deletable": true,
    "editable": true
   },
   "source": [
    "### Decoding - Training\n",
    "Create training logits using [`tf.contrib.seq2seq.simple_decoder_fn_train()`](https://www.tensorflow.org/api_docs/python/tf/contrib/seq2seq/simple_decoder_fn_train) and [`tf.contrib.seq2seq.dynamic_rnn_decoder()`](https://www.tensorflow.org/api_docs/python/tf/contrib/seq2seq/dynamic_rnn_decoder).  Apply the `output_fn` to the [`tf.contrib.seq2seq.dynamic_rnn_decoder()`](https://www.tensorflow.org/api_docs/python/tf/contrib/seq2seq/dynamic_rnn_decoder) outputs."
   ]
  },
  {
   "cell_type": "code",
   "execution_count": 46,
   "metadata": {
    "collapsed": false,
    "deletable": true,
    "editable": true
   },
   "outputs": [
    {
     "name": "stdout",
     "output_type": "stream",
     "text": [
      "Tests Passed\n"
     ]
    }
   ],
   "source": [
    "def decoding_layer_train(encoder_state, dec_cell, dec_embed_input, sequence_length, decoding_scope,\n",
    "                         output_fn, keep_prob):\n",
    "    \"\"\"\n",
    "    Create a decoding layer for training\n",
    "    :param encoder_state: Encoder State\n",
    "    :param dec_cell: Decoder RNN Cell\n",
    "    :param dec_embed_input: Decoder embedded input\n",
    "    :param sequence_length: Sequence Length\n",
    "    :param decoding_scope: TenorFlow Variable Scope for decoding\n",
    "    :param output_fn: Function to apply the output layer\n",
    "    :param keep_prob: Dropout keep probability\n",
    "    :return: Train Logits\n",
    "    \"\"\"\n",
    "    # TODO: Implement Function\n",
    "    # https://github.com/udacity/deep-learning/blob/master/seq2seq/sequence_to_sequence_implementation.ipynb\n",
    "    # NOTE: Is applying dropout here necessary?\n",
    "    dec_cell              = tf.contrib.rnn.DropoutWrapper(cell=dec_cell, output_keep_prob=keep_prob)\n",
    "    decoder_fn            = tf.contrib.seq2seq.simple_decoder_fn_train(encoder_state)\n",
    "    decoder_outputs, _, _ = tf.contrib.seq2seq.dynamic_rnn_decoder(\n",
    "        dec_cell, decoder_fn, dec_embed_input, sequence_length, scope=decoding_scope\n",
    "    )\n",
    "    train_logits = output_fn(decoder_outputs)\n",
    "    return train_logits\n",
    "\n",
    "\n",
    "\"\"\"\n",
    "DON'T MODIFY ANYTHING IN THIS CELL THAT IS BELOW THIS LINE\n",
    "\"\"\"\n",
    "tests.test_decoding_layer_train(decoding_layer_train)"
   ]
  },
  {
   "cell_type": "markdown",
   "metadata": {
    "deletable": true,
    "editable": true
   },
   "source": [
    "### Decoding - Inference\n",
    "Create inference logits using [`tf.contrib.seq2seq.simple_decoder_fn_inference()`](https://www.tensorflow.org/api_docs/python/tf/contrib/seq2seq/simple_decoder_fn_inference) and [`tf.contrib.seq2seq.dynamic_rnn_decoder()`](https://www.tensorflow.org/api_docs/python/tf/contrib/seq2seq/dynamic_rnn_decoder). "
   ]
  },
  {
   "cell_type": "code",
   "execution_count": 47,
   "metadata": {
    "collapsed": false,
    "deletable": true,
    "editable": true
   },
   "outputs": [
    {
     "name": "stdout",
     "output_type": "stream",
     "text": [
      "Tests Passed\n"
     ]
    }
   ],
   "source": [
    "def decoding_layer_infer(encoder_state, dec_cell, dec_embeddings, start_of_sequence_id, end_of_sequence_id,\n",
    "                         maximum_length, vocab_size, decoding_scope, output_fn, keep_prob):\n",
    "    \"\"\"\n",
    "    Create a decoding layer for inference\n",
    "    :param encoder_state: Encoder state\n",
    "    :param dec_cell: Decoder RNN Cell\n",
    "    :param dec_embeddings: Decoder embeddings\n",
    "    :param start_of_sequence_id: GO ID\n",
    "    :param end_of_sequence_id: EOS Id\n",
    "    :param maximum_length: Maximum length of \n",
    "    :param vocab_size: Size of vocabulary\n",
    "    :param decoding_scope: TensorFlow Variable Scope for decoding\n",
    "    :param output_fn: Function to apply the output layer\n",
    "    :param keep_prob: Dropout keep probability\n",
    "    :return: Inference Logits\n",
    "    \"\"\"\n",
    "    # TODO: Implement Function\n",
    "    # https://github.com/udacity/deep-learning/blob/master/seq2seq/sequence_to_sequence_implementation.ipynb\n",
    "    # NOTE: Is applying dropout here necessary?\n",
    "    # dec_cell   = tf.contrib.rnn.DropoutWrapper(cell=dec_cell, output_keep_prob=keep_prob)\n",
    "    decoder_fn = tf.contrib.seq2seq.simple_decoder_fn_inference(\n",
    "        output_fn, encoder_state, dec_embeddings, start_of_sequence_id, \n",
    "        end_of_sequence_id, maximum_length - 1, vocab_size\n",
    "    )\n",
    "    inference_logits, _, _ = tf.contrib.seq2seq.dynamic_rnn_decoder(\n",
    "        dec_cell, decoder_fn, scope=decoding_scope\n",
    "    )\n",
    "    return inference_logits\n",
    "\n",
    "\n",
    "\"\"\"\n",
    "DON'T MODIFY ANYTHING IN THIS CELL THAT IS BELOW THIS LINE\n",
    "\"\"\"\n",
    "tests.test_decoding_layer_infer(decoding_layer_infer)"
   ]
  },
  {
   "cell_type": "markdown",
   "metadata": {
    "deletable": true,
    "editable": true
   },
   "source": [
    "### Build the Decoding Layer\n",
    "Implement `decoding_layer()` to create a Decoder RNN layer.\n",
    "\n",
    "- Create RNN cell for decoding using `rnn_size` and `num_layers`.\n",
    "- Create the output fuction using [`lambda`](https://docs.python.org/3/tutorial/controlflow.html#lambda-expressions) to transform it's input, logits, to class logits.\n",
    "- Use the your `decoding_layer_train(encoder_state, dec_cell, dec_embed_input, sequence_length, decoding_scope, output_fn, keep_prob)` function to get the training logits.\n",
    "- Use your `decoding_layer_infer(encoder_state, dec_cell, dec_embeddings, start_of_sequence_id, end_of_sequence_id, maximum_length, vocab_size, decoding_scope, output_fn, keep_prob)` function to get the inference logits.\n",
    "\n",
    "Note: You'll need to use [tf.variable_scope](https://www.tensorflow.org/api_docs/python/tf/variable_scope) to share variables between training and inference."
   ]
  },
  {
   "cell_type": "code",
   "execution_count": 48,
   "metadata": {
    "collapsed": false,
    "deletable": true,
    "editable": true
   },
   "outputs": [
    {
     "name": "stdout",
     "output_type": "stream",
     "text": [
      "Tests Passed\n"
     ]
    }
   ],
   "source": [
    "def decoding_layer(dec_embed_input, dec_embeddings, encoder_state, vocab_size, sequence_length, rnn_size,\n",
    "                   num_layers, target_vocab_to_int, keep_prob):\n",
    "    \"\"\"\n",
    "    Create decoding layer\n",
    "    :param dec_embed_input: Decoder embedded input\n",
    "    :param dec_embeddings: Decoder embeddings\n",
    "    :param encoder_state: The encoded state\n",
    "    :param vocab_size: Size of vocabulary\n",
    "    :param sequence_length: Sequence Length\n",
    "    :param rnn_size: RNN Size\n",
    "    :param num_layers: Number of layers\n",
    "    :param target_vocab_to_int: Dictionary to go from the target words to an id\n",
    "    :param keep_prob: Dropout keep probability\n",
    "    :return: Tuple of (Training Logits, Inference Logits)\n",
    "    \"\"\"\n",
    "    # TODO: Implement Function\n",
    "    # https://github.com/udacity/deep-learning/blob/master/seq2seq/sequence_to_sequence_implementation.ipynb\n",
    "    start_of_sequence_id = target_vocab_to_int[GO_VOCAB]\n",
    "    end_of_sequence_id   = target_vocab_to_int[EOS_VOCAB]\n",
    "    with tf.variable_scope('decoding') as decoding_scope:\n",
    "        output_fn = lambda logits: tf.contrib.layers.fully_connected(\n",
    "            logits, vocab_size, None, scope=decoding_scope\n",
    "        )\n",
    "        dec_cell        = tf.contrib.rnn.MultiRNNCell([tf.contrib.rnn.BasicLSTMCell(rnn_size)] * num_layers)\n",
    "        training_logits = decoding_layer_train(\n",
    "            encoder_state, dec_cell, dec_embed_input, sequence_length, decoding_scope, output_fn, keep_prob\n",
    "        )\n",
    "        decoding_scope.reuse_variables() # Reuse vars inside same scope\n",
    "        inference_logits = decoding_layer_infer(\n",
    "            encoder_state, dec_cell, dec_embeddings, start_of_sequence_id, end_of_sequence_id, \n",
    "            sequence_length, vocab_size, decoding_scope, output_fn, keep_prob\n",
    "        )\n",
    "    return (training_logits, inference_logits)\n",
    "\n",
    "\n",
    "\"\"\"\n",
    "DON'T MODIFY ANYTHING IN THIS CELL THAT IS BELOW THIS LINE\n",
    "\"\"\"\n",
    "tests.test_decoding_layer(decoding_layer)"
   ]
  },
  {
   "cell_type": "markdown",
   "metadata": {
    "deletable": true,
    "editable": true
   },
   "source": [
    "### Build the Neural Network\n",
    "Apply the functions you implemented above to:\n",
    "\n",
    "- Apply embedding to the input data for the encoder.\n",
    "- Encode the input using your `encoding_layer(rnn_inputs, rnn_size, num_layers, keep_prob)`.\n",
    "- Process target data using your `process_decoding_input(target_data, target_vocab_to_int, batch_size)` function.\n",
    "- Apply embedding to the target data for the decoder.\n",
    "- Decode the encoded input using your `decoding_layer(dec_embed_input, dec_embeddings, encoder_state, vocab_size, sequence_length, rnn_size, num_layers, target_vocab_to_int, keep_prob)`."
   ]
  },
  {
   "cell_type": "code",
   "execution_count": 49,
   "metadata": {
    "collapsed": false,
    "deletable": true,
    "editable": true
   },
   "outputs": [
    {
     "name": "stdout",
     "output_type": "stream",
     "text": [
      "Tests Passed\n"
     ]
    }
   ],
   "source": [
    "def seq2seq_model(input_data, target_data, keep_prob, batch_size, sequence_length, source_vocab_size, target_vocab_size,\n",
    "                  enc_embedding_size, dec_embedding_size, rnn_size, num_layers, target_vocab_to_int):\n",
    "    \"\"\"\n",
    "    Build the Sequence-to-Sequence part of the neural network\n",
    "    :param input_data: Input placeholder\n",
    "    :param target_data: Target placeholder\n",
    "    :param keep_prob: Dropout keep probability placeholder\n",
    "    :param batch_size: Batch Size\n",
    "    :param sequence_length: Sequence Length\n",
    "    :param source_vocab_size: Source vocabulary size\n",
    "    :param target_vocab_size: Target vocabulary size\n",
    "    :param enc_embedding_size: Decoder embedding size\n",
    "    :param dec_embedding_size: Encoder embedding size\n",
    "    :param rnn_size: RNN Size\n",
    "    :param num_layers: Number of layers\n",
    "    :param target_vocab_to_int: Dictionary to go from the target words to an id\n",
    "    :return: Tuple of (Training Logits, Inference Logits)\n",
    "    \"\"\"\n",
    "    # TODO: Implement Function\n",
    "    # https://github.com/udacity/deep-learning/blob/master/seq2seq/sequence_to_sequence_implementation.ipynb\n",
    "    input_embeddings = tf.contrib.layers.embed_sequence(input_data, source_vocab_size, enc_embedding_size)\n",
    "\n",
    "    encoder_state = encoding_layer(input_embeddings, rnn_size, num_layers, keep_prob)\n",
    "    dec_input     = process_decoding_input(target_data, target_vocab_to_int, batch_size)\n",
    "    \n",
    "    target_embeddings = tf.contrib.layers.embed_sequence(dec_input, target_vocab_size, dec_embedding_size)\n",
    "    dec_embeddings    = tf.Variable(tf.random_uniform(shape=(target_vocab_size, dec_embedding_size)))\n",
    "    \n",
    "    logit_tuple = decoding_layer(\n",
    "        target_embeddings, dec_embeddings, encoder_state, target_vocab_size, \n",
    "        sequence_length, rnn_size, num_layers, target_vocab_to_int, keep_prob\n",
    "    )\n",
    "    return logit_tuple\n",
    "\n",
    "\n",
    "\"\"\"\n",
    "DON'T MODIFY ANYTHING IN THIS CELL THAT IS BELOW THIS LINE\n",
    "\"\"\"\n",
    "tests.test_seq2seq_model(seq2seq_model)"
   ]
  },
  {
   "cell_type": "markdown",
   "metadata": {
    "deletable": true,
    "editable": true
   },
   "source": [
    "## Neural Network Training\n",
    "### Hyperparameters\n",
    "Tune the following parameters:\n",
    "\n",
    "- Set `epochs` to the number of epochs.\n",
    "- Set `batch_size` to the batch size.\n",
    "- Set `rnn_size` to the size of the RNNs.\n",
    "- Set `num_layers` to the number of layers.\n",
    "- Set `encoding_embedding_size` to the size of the embedding for the encoder.\n",
    "- Set `decoding_embedding_size` to the size of the embedding for the decoder.\n",
    "- Set `learning_rate` to the learning rate.\n",
    "- Set `keep_probability` to the Dropout keep probability"
   ]
  },
  {
   "cell_type": "code",
   "execution_count": 50,
   "metadata": {
    "collapsed": true,
    "deletable": true,
    "editable": true
   },
   "outputs": [],
   "source": [
    "# Number of Epochs\n",
    "epochs = 1\n",
    "# Batch Size\n",
    "batch_size = 256\n",
    "# RNN Size\n",
    "rnn_size = 256\n",
    "# Number of Layers\n",
    "num_layers = 3\n",
    "# Embedding Size\n",
    "encoding_embedding_size = 14\n",
    "decoding_embedding_size = 14\n",
    "# Learning Rate\n",
    "learning_rate = 0.001\n",
    "# Dropout Keep Probability\n",
    "keep_probability = 0.8"
   ]
  },
  {
   "cell_type": "markdown",
   "metadata": {
    "deletable": true,
    "editable": true
   },
   "source": [
    "### Build the Graph\n",
    "Build the graph using the neural network you implemented."
   ]
  },
  {
   "cell_type": "code",
   "execution_count": 53,
   "metadata": {
    "collapsed": false,
    "deletable": true,
    "editable": true
   },
   "outputs": [],
   "source": [
    "\"\"\"\n",
    "DON'T MODIFY ANYTHING IN THIS CELL\n",
    "\"\"\"\n",
    "save_path = 'checkpoints/dev'\n",
    "(source_int_text, target_int_text), (source_vocab_to_int, target_vocab_to_int), _ = helper.load_preprocess()\n",
    "max_target_sentence_length = max([len(sentence) for sentence in source_int_text])\n",
    "\n",
    "train_graph = tf.Graph()\n",
    "with train_graph.as_default():\n",
    "    input_data, targets, lr, keep_prob = model_inputs()\n",
    "    sequence_length = tf.placeholder_with_default(max_target_sentence_length, None, name='sequence_length')\n",
    "    input_shape = tf.shape(input_data)\n",
    "    \n",
    "    train_logits, inference_logits = seq2seq_model(\n",
    "        tf.reverse(input_data, [-1]), targets, keep_prob, batch_size, sequence_length, len(source_vocab_to_int), len(target_vocab_to_int),\n",
    "        encoding_embedding_size, decoding_embedding_size, rnn_size, num_layers, target_vocab_to_int)\n",
    "\n",
    "    tf.identity(inference_logits, 'logits')\n",
    "    with tf.name_scope(\"optimization\"):\n",
    "        # Loss function\n",
    "        cost = tf.contrib.seq2seq.sequence_loss(\n",
    "            train_logits,\n",
    "            targets,\n",
    "            tf.ones([input_shape[0], sequence_length]))\n",
    "\n",
    "        # Optimizer\n",
    "        optimizer = tf.train.AdamOptimizer(lr)\n",
    "\n",
    "        # Gradient Clipping\n",
    "        gradients = optimizer.compute_gradients(cost)\n",
    "        capped_gradients = [(tf.clip_by_value(grad, -1., 1.), var) for grad, var in gradients if grad is not None]\n",
    "        train_op = optimizer.apply_gradients(capped_gradients)"
   ]
  },
  {
   "cell_type": "markdown",
   "metadata": {
    "deletable": true,
    "editable": true
   },
   "source": [
    "### Train\n",
    "Train the neural network on the preprocessed data. If you have a hard time getting a good loss, check the forms to see if anyone is having the same problem."
   ]
  },
  {
   "cell_type": "code",
   "execution_count": 54,
   "metadata": {
    "collapsed": false,
    "deletable": true,
    "editable": true,
    "scrolled": true
   },
   "outputs": [
    {
     "name": "stdout",
     "output_type": "stream",
     "text": [
      "Epoch   0 Batch    0/538 - Train Accuracy:  0.171, Validation Accuracy:  0.244, Loss:  5.880\n",
      "Epoch   0 Batch    1/538 - Train Accuracy:  0.187, Validation Accuracy:  0.254, Loss:  5.867\n",
      "Epoch   0 Batch    2/538 - Train Accuracy:  0.263, Validation Accuracy:  0.327, Loss:  5.830\n",
      "Epoch   0 Batch    3/538 - Train Accuracy:  0.229, Validation Accuracy:  0.316, Loss:  5.722\n",
      "Epoch   0 Batch    4/538 - Train Accuracy:  0.237, Validation Accuracy:  0.316, Loss:  5.311\n",
      "Epoch   0 Batch    5/538 - Train Accuracy:  0.263, Validation Accuracy:  0.316, Loss:  4.421\n",
      "Epoch   0 Batch    6/538 - Train Accuracy:  0.268, Validation Accuracy:  0.316, Loss:  4.356\n",
      "Epoch   0 Batch    7/538 - Train Accuracy:  0.275, Validation Accuracy:  0.344, Loss:  4.332\n",
      "Epoch   0 Batch    8/538 - Train Accuracy:  0.279, Validation Accuracy:  0.346, Loss:  4.062\n",
      "Epoch   0 Batch    9/538 - Train Accuracy:  0.278, Validation Accuracy:  0.346, Loss:  3.955\n",
      "Epoch   0 Batch   10/538 - Train Accuracy:  0.267, Validation Accuracy:  0.351, Loss:  3.955\n",
      "Epoch   0 Batch   11/538 - Train Accuracy:  0.274, Validation Accuracy:  0.347, Loss:  3.795\n",
      "Epoch   0 Batch   12/538 - Train Accuracy:  0.267, Validation Accuracy:  0.347, Loss:  3.721\n",
      "Epoch   0 Batch   13/538 - Train Accuracy:  0.319, Validation Accuracy:  0.347, Loss:  3.447\n",
      "Epoch   0 Batch   14/538 - Train Accuracy:  0.287, Validation Accuracy:  0.358, Loss:  3.536\n",
      "Epoch   0 Batch   15/538 - Train Accuracy:  0.343, Validation Accuracy:  0.371, Loss:  3.329\n",
      "Epoch   0 Batch   16/538 - Train Accuracy:  0.327, Validation Accuracy:  0.370, Loss:  3.315\n",
      "Epoch   0 Batch   17/538 - Train Accuracy:  0.312, Validation Accuracy:  0.373, Loss:  3.404\n",
      "Epoch   0 Batch   18/538 - Train Accuracy:  0.307, Validation Accuracy:  0.375, Loss:  3.396\n",
      "Epoch   0 Batch   19/538 - Train Accuracy:  0.301, Validation Accuracy:  0.375, Loss:  3.374\n",
      "Epoch   0 Batch   20/538 - Train Accuracy:  0.330, Validation Accuracy:  0.371, Loss:  3.214\n",
      "Epoch   0 Batch   21/538 - Train Accuracy:  0.260, Validation Accuracy:  0.371, Loss:  3.429\n",
      "Epoch   0 Batch   22/538 - Train Accuracy:  0.308, Validation Accuracy:  0.375, Loss:  3.258\n",
      "Epoch   0 Batch   23/538 - Train Accuracy:  0.315, Validation Accuracy:  0.375, Loss:  3.239\n",
      "Epoch   0 Batch   24/538 - Train Accuracy:  0.334, Validation Accuracy:  0.381, Loss:  3.178\n",
      "Epoch   0 Batch   25/538 - Train Accuracy:  0.321, Validation Accuracy:  0.387, Loss:  3.235\n",
      "Epoch   0 Batch   26/538 - Train Accuracy:  0.322, Validation Accuracy:  0.388, Loss:  3.226\n",
      "Epoch   0 Batch   27/538 - Train Accuracy:  0.319, Validation Accuracy:  0.381, Loss:  3.177\n",
      "Epoch   0 Batch   28/538 - Train Accuracy:  0.396, Validation Accuracy:  0.398, Loss:  2.909\n",
      "Epoch   0 Batch   29/538 - Train Accuracy:  0.351, Validation Accuracy:  0.394, Loss:  3.040\n",
      "Epoch   0 Batch   30/538 - Train Accuracy:  0.322, Validation Accuracy:  0.392, Loss:  3.165\n",
      "Epoch   0 Batch   31/538 - Train Accuracy:  0.367, Validation Accuracy:  0.404, Loss:  3.006\n",
      "Epoch   0 Batch   32/538 - Train Accuracy:  0.344, Validation Accuracy:  0.394, Loss:  3.025\n",
      "Epoch   0 Batch   33/538 - Train Accuracy:  0.364, Validation Accuracy:  0.403, Loss:  3.047\n",
      "Epoch   0 Batch   34/538 - Train Accuracy:  0.339, Validation Accuracy:  0.398, Loss:  3.073\n",
      "Epoch   0 Batch   35/538 - Train Accuracy:  0.321, Validation Accuracy:  0.395, Loss:  3.093\n",
      "Epoch   0 Batch   36/538 - Train Accuracy:  0.357, Validation Accuracy:  0.393, Loss:  2.943\n",
      "Epoch   0 Batch   37/538 - Train Accuracy:  0.347, Validation Accuracy:  0.407, Loss:  3.044\n",
      "Epoch   0 Batch   38/538 - Train Accuracy:  0.327, Validation Accuracy:  0.405, Loss:  3.014\n",
      "Epoch   0 Batch   39/538 - Train Accuracy:  0.339, Validation Accuracy:  0.404, Loss:  3.032\n",
      "Epoch   0 Batch   40/538 - Train Accuracy:  0.394, Validation Accuracy:  0.403, Loss:  2.729\n",
      "Epoch   0 Batch   41/538 - Train Accuracy:  0.353, Validation Accuracy:  0.413, Loss:  2.967\n",
      "Epoch   0 Batch   42/538 - Train Accuracy:  0.355, Validation Accuracy:  0.414, Loss:  2.901\n",
      "Epoch   0 Batch   43/538 - Train Accuracy:  0.364, Validation Accuracy:  0.414, Loss:  2.947\n",
      "Epoch   0 Batch   44/538 - Train Accuracy:  0.355, Validation Accuracy:  0.419, Loss:  2.920\n",
      "Epoch   0 Batch   45/538 - Train Accuracy:  0.403, Validation Accuracy:  0.429, Loss:  2.777\n",
      "Epoch   0 Batch   46/538 - Train Accuracy:  0.374, Validation Accuracy:  0.431, Loss:  2.868\n",
      "Epoch   0 Batch   47/538 - Train Accuracy:  0.405, Validation Accuracy:  0.429, Loss:  2.750\n",
      "Epoch   0 Batch   48/538 - Train Accuracy:  0.421, Validation Accuracy:  0.434, Loss:  2.719\n",
      "Epoch   0 Batch   49/538 - Train Accuracy:  0.363, Validation Accuracy:  0.434, Loss:  2.893\n",
      "Epoch   0 Batch   50/538 - Train Accuracy:  0.386, Validation Accuracy:  0.436, Loss:  2.803\n",
      "Epoch   0 Batch   51/538 - Train Accuracy:  0.331, Validation Accuracy:  0.441, Loss:  2.984\n",
      "Epoch   0 Batch   52/538 - Train Accuracy:  0.390, Validation Accuracy:  0.439, Loss:  2.760\n",
      "Epoch   0 Batch   53/538 - Train Accuracy:  0.434, Validation Accuracy:  0.444, Loss:  2.585\n",
      "Epoch   0 Batch   54/538 - Train Accuracy:  0.397, Validation Accuracy:  0.448, Loss:  2.731\n",
      "Epoch   0 Batch   55/538 - Train Accuracy:  0.388, Validation Accuracy:  0.448, Loss:  2.764\n",
      "Epoch   0 Batch   56/538 - Train Accuracy:  0.416, Validation Accuracy:  0.448, Loss:  2.646\n",
      "Epoch   0 Batch   57/538 - Train Accuracy:  0.380, Validation Accuracy:  0.450, Loss:  2.779\n",
      "Epoch   0 Batch   58/538 - Train Accuracy:  0.378, Validation Accuracy:  0.451, Loss:  2.760\n",
      "Epoch   0 Batch   59/538 - Train Accuracy:  0.394, Validation Accuracy:  0.458, Loss:  2.733\n",
      "Epoch   0 Batch   60/538 - Train Accuracy:  0.394, Validation Accuracy:  0.454, Loss:  2.685\n",
      "Epoch   0 Batch   61/538 - Train Accuracy:  0.404, Validation Accuracy:  0.462, Loss:  2.683\n",
      "Epoch   0 Batch   62/538 - Train Accuracy:  0.407, Validation Accuracy:  0.449, Loss:  2.600\n",
      "Epoch   0 Batch   63/538 - Train Accuracy:  0.429, Validation Accuracy:  0.460, Loss:  2.552\n",
      "Epoch   0 Batch   64/538 - Train Accuracy:  0.419, Validation Accuracy:  0.452, Loss:  2.531\n",
      "Epoch   0 Batch   65/538 - Train Accuracy:  0.388, Validation Accuracy:  0.459, Loss:  2.706\n",
      "Epoch   0 Batch   66/538 - Train Accuracy:  0.419, Validation Accuracy:  0.448, Loss:  2.508\n",
      "Epoch   0 Batch   67/538 - Train Accuracy:  0.407, Validation Accuracy:  0.461, Loss:  2.606\n",
      "Epoch   0 Batch   68/538 - Train Accuracy:  0.421, Validation Accuracy:  0.457, Loss:  2.447\n",
      "Epoch   0 Batch   69/538 - Train Accuracy:  0.406, Validation Accuracy:  0.468, Loss:  2.600\n",
      "Epoch   0 Batch   70/538 - Train Accuracy:  0.416, Validation Accuracy:  0.450, Loss:  2.474\n",
      "Epoch   0 Batch   71/538 - Train Accuracy:  0.410, Validation Accuracy:  0.469, Loss:  2.575\n",
      "Epoch   0 Batch   72/538 - Train Accuracy:  0.435, Validation Accuracy:  0.457, Loss:  2.429\n",
      "Epoch   0 Batch   73/538 - Train Accuracy:  0.409, Validation Accuracy:  0.466, Loss:  2.591\n",
      "Epoch   0 Batch   74/538 - Train Accuracy:  0.419, Validation Accuracy:  0.448, Loss:  2.450\n",
      "Epoch   0 Batch   75/538 - Train Accuracy:  0.447, Validation Accuracy:  0.469, Loss:  2.452\n",
      "Epoch   0 Batch   76/538 - Train Accuracy:  0.401, Validation Accuracy:  0.463, Loss:  2.557\n",
      "Epoch   0 Batch   77/538 - Train Accuracy:  0.410, Validation Accuracy:  0.473, Loss:  2.569\n",
      "Epoch   0 Batch   78/538 - Train Accuracy:  0.422, Validation Accuracy:  0.448, Loss:  2.421\n",
      "Epoch   0 Batch   79/538 - Train Accuracy:  0.436, Validation Accuracy:  0.477, Loss:  2.428\n",
      "Epoch   0 Batch   80/538 - Train Accuracy:  0.401, Validation Accuracy:  0.465, Loss:  2.506\n",
      "Epoch   0 Batch   81/538 - Train Accuracy:  0.422, Validation Accuracy:  0.479, Loss:  2.524\n",
      "Epoch   0 Batch   82/538 - Train Accuracy:  0.410, Validation Accuracy:  0.467, Loss:  2.442\n",
      "Epoch   0 Batch   83/538 - Train Accuracy:  0.412, Validation Accuracy:  0.474, Loss:  2.508\n",
      "Epoch   0 Batch   84/538 - Train Accuracy:  0.449, Validation Accuracy:  0.480, Loss:  2.365\n",
      "Epoch   0 Batch   85/538 - Train Accuracy:  0.463, Validation Accuracy:  0.483, Loss:  2.285\n",
      "Epoch   0 Batch   86/538 - Train Accuracy:  0.422, Validation Accuracy:  0.477, Loss:  2.461\n",
      "Epoch   0 Batch   87/538 - Train Accuracy:  0.414, Validation Accuracy:  0.471, Loss:  2.406\n",
      "Epoch   0 Batch   88/538 - Train Accuracy:  0.438, Validation Accuracy:  0.482, Loss:  2.444\n",
      "Epoch   0 Batch   89/538 - Train Accuracy:  0.435, Validation Accuracy:  0.480, Loss:  2.408\n",
      "Epoch   0 Batch   90/538 - Train Accuracy:  0.447, Validation Accuracy:  0.478, Loss:  2.358\n",
      "Epoch   0 Batch   91/538 - Train Accuracy:  0.416, Validation Accuracy:  0.475, Loss:  2.435\n",
      "Epoch   0 Batch   92/538 - Train Accuracy:  0.432, Validation Accuracy:  0.482, Loss:  2.404\n",
      "Epoch   0 Batch   93/538 - Train Accuracy:  0.421, Validation Accuracy:  0.480, Loss:  2.409\n",
      "Epoch   0 Batch   94/538 - Train Accuracy:  0.433, Validation Accuracy:  0.485, Loss:  2.456\n",
      "Epoch   0 Batch   95/538 - Train Accuracy:  0.485, Validation Accuracy:  0.480, Loss:  2.196\n",
      "Epoch   0 Batch   96/538 - Train Accuracy:  0.461, Validation Accuracy:  0.483, Loss:  2.244\n",
      "Epoch   0 Batch   97/538 - Train Accuracy:  0.410, Validation Accuracy:  0.476, Loss:  2.370\n",
      "Epoch   0 Batch   98/538 - Train Accuracy:  0.460, Validation Accuracy:  0.482, Loss:  2.210\n",
      "Epoch   0 Batch   99/538 - Train Accuracy:  0.427, Validation Accuracy:  0.486, Loss:  2.383\n",
      "Epoch   0 Batch  100/538 - Train Accuracy:  0.430, Validation Accuracy:  0.483, Loss:  2.314\n",
      "Epoch   0 Batch  101/538 - Train Accuracy:  0.425, Validation Accuracy:  0.482, Loss:  2.343\n",
      "Epoch   0 Batch  102/538 - Train Accuracy:  0.409, Validation Accuracy:  0.473, Loss:  2.373\n",
      "Epoch   0 Batch  103/538 - Train Accuracy:  0.424, Validation Accuracy:  0.467, Loss:  2.298\n",
      "Epoch   0 Batch  104/538 - Train Accuracy:  0.428, Validation Accuracy:  0.467, Loss:  2.271\n",
      "Epoch   0 Batch  105/538 - Train Accuracy:  0.421, Validation Accuracy:  0.460, Loss:  2.222\n",
      "Epoch   0 Batch  106/538 - Train Accuracy:  0.382, Validation Accuracy:  0.451, Loss:  2.309\n",
      "Epoch   0 Batch  107/538 - Train Accuracy:  0.382, Validation Accuracy:  0.454, Loss:  2.325\n",
      "Epoch   0 Batch  108/538 - Train Accuracy:  0.375, Validation Accuracy:  0.425, Loss:  2.269\n",
      "Epoch   0 Batch  109/538 - Train Accuracy:  0.387, Validation Accuracy:  0.447, Loss:  2.280\n",
      "Epoch   0 Batch  110/538 - Train Accuracy:  0.357, Validation Accuracy:  0.421, Loss:  2.318\n",
      "Epoch   0 Batch  111/538 - Train Accuracy:  0.385, Validation Accuracy:  0.422, Loss:  2.185\n",
      "Epoch   0 Batch  112/538 - Train Accuracy:  0.355, Validation Accuracy:  0.429, Loss:  2.298\n",
      "Epoch   0 Batch  113/538 - Train Accuracy:  0.327, Validation Accuracy:  0.402, Loss:  2.312\n",
      "Epoch   0 Batch  114/538 - Train Accuracy:  0.403, Validation Accuracy:  0.430, Loss:  2.257\n",
      "Epoch   0 Batch  115/538 - Train Accuracy:  0.356, Validation Accuracy:  0.420, Loss:  2.281\n",
      "Epoch   0 Batch  116/538 - Train Accuracy:  0.377, Validation Accuracy:  0.407, Loss:  2.180\n",
      "Epoch   0 Batch  117/538 - Train Accuracy:  0.394, Validation Accuracy:  0.420, Loss:  2.193\n",
      "Epoch   0 Batch  118/538 - Train Accuracy:  0.384, Validation Accuracy:  0.421, Loss:  2.136\n",
      "Epoch   0 Batch  119/538 - Train Accuracy:  0.367, Validation Accuracy:  0.408, Loss:  2.127\n",
      "Epoch   0 Batch  120/538 - Train Accuracy:  0.347, Validation Accuracy:  0.419, Loss:  2.232\n",
      "Epoch   0 Batch  121/538 - Train Accuracy:  0.373, Validation Accuracy:  0.417, Loss:  2.103\n",
      "Epoch   0 Batch  122/538 - Train Accuracy:  0.351, Validation Accuracy:  0.408, Loss:  2.132\n",
      "Epoch   0 Batch  123/538 - Train Accuracy:  0.377, Validation Accuracy:  0.408, Loss:  2.089\n",
      "Epoch   0 Batch  124/538 - Train Accuracy:  0.394, Validation Accuracy:  0.413, Loss:  2.029\n",
      "Epoch   0 Batch  125/538 - Train Accuracy:  0.342, Validation Accuracy:  0.389, Loss:  2.142\n",
      "Epoch   0 Batch  126/538 - Train Accuracy:  0.395, Validation Accuracy:  0.414, Loss:  2.065\n",
      "Epoch   0 Batch  127/538 - Train Accuracy:  0.354, Validation Accuracy:  0.420, Loss:  2.181\n",
      "Epoch   0 Batch  128/538 - Train Accuracy:  0.370, Validation Accuracy:  0.403, Loss:  2.104\n",
      "Epoch   0 Batch  129/538 - Train Accuracy:  0.356, Validation Accuracy:  0.398, Loss:  2.094\n",
      "Epoch   0 Batch  130/538 - Train Accuracy:  0.359, Validation Accuracy:  0.413, Loss:  2.080\n",
      "Epoch   0 Batch  131/538 - Train Accuracy:  0.319, Validation Accuracy:  0.394, Loss:  2.217\n",
      "Epoch   0 Batch  132/538 - Train Accuracy:  0.372, Validation Accuracy:  0.400, Loss:  2.045\n",
      "Epoch   0 Batch  133/538 - Train Accuracy:  0.378, Validation Accuracy:  0.405, Loss:  1.979\n",
      "Epoch   0 Batch  134/538 - Train Accuracy:  0.310, Validation Accuracy:  0.401, Loss:  2.211\n",
      "Epoch   0 Batch  135/538 - Train Accuracy:  0.357, Validation Accuracy:  0.404, Loss:  2.062\n",
      "Epoch   0 Batch  136/538 - Train Accuracy:  0.351, Validation Accuracy:  0.402, Loss:  2.063\n",
      "Epoch   0 Batch  137/538 - Train Accuracy:  0.356, Validation Accuracy:  0.390, Loss:  2.036\n",
      "Epoch   0 Batch  138/538 - Train Accuracy:  0.348, Validation Accuracy:  0.396, Loss:  2.058\n",
      "Epoch   0 Batch  139/538 - Train Accuracy:  0.314, Validation Accuracy:  0.400, Loss:  2.180\n",
      "Epoch   0 Batch  140/538 - Train Accuracy:  0.338, Validation Accuracy:  0.412, Loss:  2.148\n",
      "Epoch   0 Batch  141/538 - Train Accuracy:  0.342, Validation Accuracy:  0.411, Loss:  2.168\n",
      "Epoch   0 Batch  142/538 - Train Accuracy:  0.358, Validation Accuracy:  0.385, Loss:  1.961\n",
      "Epoch   0 Batch  143/538 - Train Accuracy:  0.315, Validation Accuracy:  0.404, Loss:  2.137\n",
      "Epoch   0 Batch  144/538 - Train Accuracy:  0.330, Validation Accuracy:  0.394, Loss:  2.114\n",
      "Epoch   0 Batch  145/538 - Train Accuracy:  0.364, Validation Accuracy:  0.399, Loss:  1.992\n",
      "Epoch   0 Batch  146/538 - Train Accuracy:  0.377, Validation Accuracy:  0.407, Loss:  1.920\n",
      "Epoch   0 Batch  147/538 - Train Accuracy:  0.369, Validation Accuracy:  0.398, Loss:  1.990\n",
      "Epoch   0 Batch  148/538 - Train Accuracy:  0.317, Validation Accuracy:  0.393, Loss:  2.118\n",
      "Epoch   0 Batch  149/538 - Train Accuracy:  0.334, Validation Accuracy:  0.400, Loss:  2.020\n",
      "Epoch   0 Batch  150/538 - Train Accuracy:  0.317, Validation Accuracy:  0.395, Loss:  2.017\n",
      "Epoch   0 Batch  151/538 - Train Accuracy:  0.357, Validation Accuracy:  0.397, Loss:  1.933\n",
      "Epoch   0 Batch  152/538 - Train Accuracy:  0.356, Validation Accuracy:  0.394, Loss:  1.942\n",
      "Epoch   0 Batch  153/538 - Train Accuracy:  0.323, Validation Accuracy:  0.395, Loss:  1.999\n",
      "Epoch   0 Batch  154/538 - Train Accuracy:  0.332, Validation Accuracy:  0.388, Loss:  1.926\n",
      "Epoch   0 Batch  155/538 - Train Accuracy:  0.353, Validation Accuracy:  0.393, Loss:  1.934\n",
      "Epoch   0 Batch  156/538 - Train Accuracy:  0.312, Validation Accuracy:  0.390, Loss:  2.018\n",
      "Epoch   0 Batch  157/538 - Train Accuracy:  0.341, Validation Accuracy:  0.398, Loss:  1.955\n",
      "Epoch   0 Batch  158/538 - Train Accuracy:  0.317, Validation Accuracy:  0.394, Loss:  2.035\n",
      "Epoch   0 Batch  159/538 - Train Accuracy:  0.308, Validation Accuracy:  0.389, Loss:  2.007\n",
      "Epoch   0 Batch  160/538 - Train Accuracy:  0.340, Validation Accuracy:  0.393, Loss:  1.896\n",
      "Epoch   0 Batch  161/538 - Train Accuracy:  0.321, Validation Accuracy:  0.392, Loss:  1.943\n",
      "Epoch   0 Batch  162/538 - Train Accuracy:  0.374, Validation Accuracy:  0.399, Loss:  1.835\n",
      "Epoch   0 Batch  163/538 - Train Accuracy:  0.341, Validation Accuracy:  0.386, Loss:  1.925\n",
      "Epoch   0 Batch  164/538 - Train Accuracy:  0.318, Validation Accuracy:  0.393, Loss:  2.010\n",
      "Epoch   0 Batch  165/538 - Train Accuracy:  0.350, Validation Accuracy:  0.376, Loss:  1.814\n",
      "Epoch   0 Batch  166/538 - Train Accuracy:  0.359, Validation Accuracy:  0.418, Loss:  2.042\n",
      "Epoch   0 Batch  167/538 - Train Accuracy:  0.354, Validation Accuracy:  0.387, Loss:  1.964\n",
      "Epoch   0 Batch  168/538 - Train Accuracy:  0.315, Validation Accuracy:  0.389, Loss:  2.073\n",
      "Epoch   0 Batch  169/538 - Train Accuracy:  0.327, Validation Accuracy:  0.396, Loss:  1.917\n",
      "Epoch   0 Batch  170/538 - Train Accuracy:  0.324, Validation Accuracy:  0.373, Loss:  1.993\n",
      "Epoch   0 Batch  171/538 - Train Accuracy:  0.310, Validation Accuracy:  0.399, Loss:  2.063\n",
      "Epoch   0 Batch  172/538 - Train Accuracy:  0.336, Validation Accuracy:  0.391, Loss:  1.916\n",
      "Epoch   0 Batch  173/538 - Train Accuracy:  0.343, Validation Accuracy:  0.392, Loss:  1.909\n",
      "Epoch   0 Batch  174/538 - Train Accuracy:  0.304, Validation Accuracy:  0.391, Loss:  2.082\n",
      "Epoch   0 Batch  175/538 - Train Accuracy:  0.291, Validation Accuracy:  0.395, Loss:  2.044\n",
      "Epoch   0 Batch  176/538 - Train Accuracy:  0.300, Validation Accuracy:  0.380, Loss:  2.002\n",
      "Epoch   0 Batch  177/538 - Train Accuracy:  0.331, Validation Accuracy:  0.378, Loss:  1.912\n",
      "Epoch   0 Batch  178/538 - Train Accuracy:  0.372, Validation Accuracy:  0.395, Loss:  1.849\n",
      "Epoch   0 Batch  179/538 - Train Accuracy:  0.321, Validation Accuracy:  0.393, Loss:  1.942\n",
      "Epoch   0 Batch  180/538 - Train Accuracy:  0.348, Validation Accuracy:  0.387, Loss:  1.859\n",
      "Epoch   0 Batch  181/538 - Train Accuracy:  0.307, Validation Accuracy:  0.392, Loss:  2.004\n",
      "Epoch   0 Batch  182/538 - Train Accuracy:  0.309, Validation Accuracy:  0.398, Loss:  1.905\n",
      "Epoch   0 Batch  183/538 - Train Accuracy:  0.351, Validation Accuracy:  0.385, Loss:  1.848\n",
      "Epoch   0 Batch  184/538 - Train Accuracy:  0.336, Validation Accuracy:  0.378, Loss:  1.803\n",
      "Epoch   0 Batch  185/538 - Train Accuracy:  0.325, Validation Accuracy:  0.391, Loss:  1.895\n",
      "Epoch   0 Batch  186/538 - Train Accuracy:  0.339, Validation Accuracy:  0.395, Loss:  1.856\n",
      "Epoch   0 Batch  187/538 - Train Accuracy:  0.368, Validation Accuracy:  0.386, Loss:  1.772\n",
      "Epoch   0 Batch  188/538 - Train Accuracy:  0.302, Validation Accuracy:  0.390, Loss:  1.886\n",
      "Epoch   0 Batch  189/538 - Train Accuracy:  0.323, Validation Accuracy:  0.396, Loss:  1.846\n",
      "Epoch   0 Batch  190/538 - Train Accuracy:  0.352, Validation Accuracy:  0.391, Loss:  1.822\n",
      "Epoch   0 Batch  191/538 - Train Accuracy:  0.342, Validation Accuracy:  0.381, Loss:  1.739\n",
      "Epoch   0 Batch  192/538 - Train Accuracy:  0.335, Validation Accuracy:  0.385, Loss:  1.770\n",
      "Epoch   0 Batch  193/538 - Train Accuracy:  0.358, Validation Accuracy:  0.392, Loss:  1.748\n",
      "Epoch   0 Batch  194/538 - Train Accuracy:  0.301, Validation Accuracy:  0.393, Loss:  1.844\n",
      "Epoch   0 Batch  195/538 - Train Accuracy:  0.367, Validation Accuracy:  0.390, Loss:  1.731\n",
      "Epoch   0 Batch  196/538 - Train Accuracy:  0.342, Validation Accuracy:  0.394, Loss:  1.799\n",
      "Epoch   0 Batch  197/538 - Train Accuracy:  0.361, Validation Accuracy:  0.395, Loss:  1.726\n",
      "Epoch   0 Batch  198/538 - Train Accuracy:  0.352, Validation Accuracy:  0.388, Loss:  1.718\n",
      "Epoch   0 Batch  199/538 - Train Accuracy:  0.308, Validation Accuracy:  0.389, Loss:  1.861\n",
      "Epoch   0 Batch  200/538 - Train Accuracy:  0.319, Validation Accuracy:  0.391, Loss:  1.806\n",
      "Epoch   0 Batch  201/538 - Train Accuracy:  0.365, Validation Accuracy:  0.392, Loss:  1.685\n",
      "Epoch   0 Batch  202/538 - Train Accuracy:  0.295, Validation Accuracy:  0.386, Loss:  1.835\n",
      "Epoch   0 Batch  203/538 - Train Accuracy:  0.313, Validation Accuracy:  0.389, Loss:  1.821\n",
      "Epoch   0 Batch  204/538 - Train Accuracy:  0.319, Validation Accuracy:  0.395, Loss:  1.758\n",
      "Epoch   0 Batch  205/538 - Train Accuracy:  0.352, Validation Accuracy:  0.394, Loss:  1.691\n",
      "Epoch   0 Batch  206/538 - Train Accuracy:  0.299, Validation Accuracy:  0.384, Loss:  1.762\n",
      "Epoch   0 Batch  207/538 - Train Accuracy:  0.356, Validation Accuracy:  0.388, Loss:  1.693\n",
      "Epoch   0 Batch  208/538 - Train Accuracy:  0.323, Validation Accuracy:  0.390, Loss:  1.731\n",
      "Epoch   0 Batch  209/538 - Train Accuracy:  0.307, Validation Accuracy:  0.389, Loss:  1.775\n",
      "Epoch   0 Batch  210/538 - Train Accuracy:  0.342, Validation Accuracy:  0.388, Loss:  1.647\n",
      "Epoch   0 Batch  211/538 - Train Accuracy:  0.318, Validation Accuracy:  0.396, Loss:  1.758\n",
      "Epoch   0 Batch  212/538 - Train Accuracy:  0.342, Validation Accuracy:  0.390, Loss:  1.676\n",
      "Epoch   0 Batch  213/538 - Train Accuracy:  0.333, Validation Accuracy:  0.389, Loss:  1.675\n",
      "Epoch   0 Batch  214/538 - Train Accuracy:  0.322, Validation Accuracy:  0.390, Loss:  1.715\n",
      "Epoch   0 Batch  215/538 - Train Accuracy:  0.306, Validation Accuracy:  0.385, Loss:  1.715\n",
      "Epoch   0 Batch  216/538 - Train Accuracy:  0.289, Validation Accuracy:  0.383, Loss:  1.714\n",
      "Epoch   0 Batch  217/538 - Train Accuracy:  0.350, Validation Accuracy:  0.390, Loss:  1.636\n",
      "Epoch   0 Batch  218/538 - Train Accuracy:  0.306, Validation Accuracy:  0.397, Loss:  1.668\n",
      "Epoch   0 Batch  219/538 - Train Accuracy:  0.305, Validation Accuracy:  0.388, Loss:  1.727\n",
      "Epoch   0 Batch  220/538 - Train Accuracy:  0.361, Validation Accuracy:  0.399, Loss:  1.633\n",
      "Epoch   0 Batch  221/538 - Train Accuracy:  0.349, Validation Accuracy:  0.395, Loss:  1.635\n",
      "Epoch   0 Batch  222/538 - Train Accuracy:  0.339, Validation Accuracy:  0.379, Loss:  1.590\n",
      "Epoch   0 Batch  223/538 - Train Accuracy:  0.326, Validation Accuracy:  0.390, Loss:  1.707\n",
      "Epoch   0 Batch  224/538 - Train Accuracy:  0.308, Validation Accuracy:  0.385, Loss:  1.701\n",
      "Epoch   0 Batch  225/538 - Train Accuracy:  0.351, Validation Accuracy:  0.385, Loss:  1.568\n",
      "Epoch   0 Batch  226/538 - Train Accuracy:  0.341, Validation Accuracy:  0.393, Loss:  1.571\n",
      "Epoch   0 Batch  227/538 - Train Accuracy:  0.386, Validation Accuracy:  0.386, Loss:  1.501\n",
      "Epoch   0 Batch  228/538 - Train Accuracy:  0.325, Validation Accuracy:  0.382, Loss:  1.543\n",
      "Epoch   0 Batch  229/538 - Train Accuracy:  0.349, Validation Accuracy:  0.386, Loss:  1.556\n",
      "Epoch   0 Batch  230/538 - Train Accuracy:  0.303, Validation Accuracy:  0.379, Loss:  1.605\n",
      "Epoch   0 Batch  231/538 - Train Accuracy:  0.313, Validation Accuracy:  0.380, Loss:  1.562\n",
      "Epoch   0 Batch  232/538 - Train Accuracy:  0.296, Validation Accuracy:  0.385, Loss:  1.582\n",
      "Epoch   0 Batch  233/538 - Train Accuracy:  0.356, Validation Accuracy:  0.390, Loss:  1.549\n",
      "Epoch   0 Batch  234/538 - Train Accuracy:  0.308, Validation Accuracy:  0.385, Loss:  1.581\n",
      "Epoch   0 Batch  235/538 - Train Accuracy:  0.345, Validation Accuracy:  0.396, Loss:  1.530\n",
      "Epoch   0 Batch  236/538 - Train Accuracy:  0.298, Validation Accuracy:  0.379, Loss:  1.597\n",
      "Epoch   0 Batch  237/538 - Train Accuracy:  0.323, Validation Accuracy:  0.390, Loss:  1.528\n",
      "Epoch   0 Batch  238/538 - Train Accuracy:  0.346, Validation Accuracy:  0.384, Loss:  1.468\n",
      "Epoch   0 Batch  239/538 - Train Accuracy:  0.311, Validation Accuracy:  0.377, Loss:  1.575\n",
      "Epoch   0 Batch  240/538 - Train Accuracy:  0.330, Validation Accuracy:  0.387, Loss:  1.578\n",
      "Epoch   0 Batch  241/538 - Train Accuracy:  0.295, Validation Accuracy:  0.379, Loss:  1.580\n",
      "Epoch   0 Batch  242/538 - Train Accuracy:  0.298, Validation Accuracy:  0.384, Loss:  1.542\n",
      "Epoch   0 Batch  243/538 - Train Accuracy:  0.277, Validation Accuracy:  0.384, Loss:  1.599\n",
      "Epoch   0 Batch  244/538 - Train Accuracy:  0.326, Validation Accuracy:  0.382, Loss:  1.491\n",
      "Epoch   0 Batch  245/538 - Train Accuracy:  0.313, Validation Accuracy:  0.379, Loss:  1.551\n",
      "Epoch   0 Batch  246/538 - Train Accuracy:  0.344, Validation Accuracy:  0.382, Loss:  1.433\n",
      "Epoch   0 Batch  247/538 - Train Accuracy:  0.302, Validation Accuracy:  0.381, Loss:  1.553\n",
      "Epoch   0 Batch  248/538 - Train Accuracy:  0.309, Validation Accuracy:  0.385, Loss:  1.532\n",
      "Epoch   0 Batch  249/538 - Train Accuracy:  0.323, Validation Accuracy:  0.383, Loss:  1.418\n",
      "Epoch   0 Batch  250/538 - Train Accuracy:  0.303, Validation Accuracy:  0.386, Loss:  1.503\n",
      "Epoch   0 Batch  251/538 - Train Accuracy:  0.289, Validation Accuracy:  0.383, Loss:  1.491\n",
      "Epoch   0 Batch  252/538 - Train Accuracy:  0.327, Validation Accuracy:  0.378, Loss:  1.394\n",
      "Epoch   0 Batch  253/538 - Train Accuracy:  0.334, Validation Accuracy:  0.377, Loss:  1.426\n",
      "Epoch   0 Batch  254/538 - Train Accuracy:  0.310, Validation Accuracy:  0.378, Loss:  1.494\n",
      "Epoch   0 Batch  255/538 - Train Accuracy:  0.302, Validation Accuracy:  0.374, Loss:  1.508\n",
      "Epoch   0 Batch  256/538 - Train Accuracy:  0.313, Validation Accuracy:  0.385, Loss:  1.520\n",
      "Epoch   0 Batch  257/538 - Train Accuracy:  0.341, Validation Accuracy:  0.378, Loss:  1.436\n",
      "Epoch   0 Batch  258/538 - Train Accuracy:  0.336, Validation Accuracy:  0.379, Loss:  1.407\n",
      "Epoch   0 Batch  259/538 - Train Accuracy:  0.346, Validation Accuracy:  0.383, Loss:  1.428\n",
      "Epoch   0 Batch  260/538 - Train Accuracy:  0.323, Validation Accuracy:  0.369, Loss:  1.466\n",
      "Epoch   0 Batch  261/538 - Train Accuracy:  0.292, Validation Accuracy:  0.382, Loss:  1.530\n",
      "Epoch   0 Batch  262/538 - Train Accuracy:  0.288, Validation Accuracy:  0.376, Loss:  1.566\n",
      "Epoch   0 Batch  263/538 - Train Accuracy:  0.318, Validation Accuracy:  0.378, Loss:  1.486\n",
      "Epoch   0 Batch  264/538 - Train Accuracy:  0.320, Validation Accuracy:  0.408, Loss:  1.479\n",
      "Epoch   0 Batch  265/538 - Train Accuracy:  0.282, Validation Accuracy:  0.369, Loss:  1.602\n",
      "Epoch   0 Batch  266/538 - Train Accuracy:  0.352, Validation Accuracy:  0.401, Loss:  1.558\n",
      "Epoch   0 Batch  267/538 - Train Accuracy:  0.307, Validation Accuracy:  0.381, Loss:  1.625\n",
      "Epoch   0 Batch  268/538 - Train Accuracy:  0.322, Validation Accuracy:  0.374, Loss:  1.405\n",
      "Epoch   0 Batch  269/538 - Train Accuracy:  0.340, Validation Accuracy:  0.406, Loss:  1.523\n",
      "Epoch   0 Batch  270/538 - Train Accuracy:  0.298, Validation Accuracy:  0.375, Loss:  1.599\n",
      "Epoch   0 Batch  271/538 - Train Accuracy:  0.282, Validation Accuracy:  0.369, Loss:  1.452\n",
      "Epoch   0 Batch  272/538 - Train Accuracy:  0.306, Validation Accuracy:  0.387, Loss:  1.654\n",
      "Epoch   0 Batch  273/538 - Train Accuracy:  0.338, Validation Accuracy:  0.392, Loss:  1.484\n",
      "Epoch   0 Batch  274/538 - Train Accuracy:  0.285, Validation Accuracy:  0.375, Loss:  1.532\n",
      "Epoch   0 Batch  275/538 - Train Accuracy:  0.298, Validation Accuracy:  0.371, Loss:  1.500\n",
      "Epoch   0 Batch  276/538 - Train Accuracy:  0.326, Validation Accuracy:  0.397, Loss:  1.527\n",
      "Epoch   0 Batch  277/538 - Train Accuracy:  0.326, Validation Accuracy:  0.398, Loss:  1.468\n",
      "Epoch   0 Batch  278/538 - Train Accuracy:  0.290, Validation Accuracy:  0.377, Loss:  1.445\n",
      "Epoch   0 Batch  279/538 - Train Accuracy:  0.295, Validation Accuracy:  0.370, Loss:  1.426\n",
      "Epoch   0 Batch  280/538 - Train Accuracy:  0.347, Validation Accuracy:  0.382, Loss:  1.425\n",
      "Epoch   0 Batch  281/538 - Train Accuracy:  0.318, Validation Accuracy:  0.395, Loss:  1.445\n",
      "Epoch   0 Batch  282/538 - Train Accuracy:  0.328, Validation Accuracy:  0.383, Loss:  1.450\n",
      "Epoch   0 Batch  283/538 - Train Accuracy:  0.304, Validation Accuracy:  0.372, Loss:  1.391\n",
      "Epoch   0 Batch  284/538 - Train Accuracy:  0.310, Validation Accuracy:  0.381, Loss:  1.453\n",
      "Epoch   0 Batch  285/538 - Train Accuracy:  0.360, Validation Accuracy:  0.400, Loss:  1.335\n",
      "Epoch   0 Batch  286/538 - Train Accuracy:  0.344, Validation Accuracy:  0.394, Loss:  1.440\n",
      "Epoch   0 Batch  287/538 - Train Accuracy:  0.321, Validation Accuracy:  0.375, Loss:  1.375\n",
      "Epoch   0 Batch  288/538 - Train Accuracy:  0.282, Validation Accuracy:  0.374, Loss:  1.443\n",
      "Epoch   0 Batch  289/538 - Train Accuracy:  0.341, Validation Accuracy:  0.385, Loss:  1.328\n",
      "Epoch   0 Batch  290/538 - Train Accuracy:  0.318, Validation Accuracy:  0.388, Loss:  1.427\n",
      "Epoch   0 Batch  291/538 - Train Accuracy:  0.318, Validation Accuracy:  0.379, Loss:  1.377\n",
      "Epoch   0 Batch  292/538 - Train Accuracy:  0.329, Validation Accuracy:  0.376, Loss:  1.325\n",
      "Epoch   0 Batch  293/538 - Train Accuracy:  0.350, Validation Accuracy:  0.385, Loss:  1.349\n",
      "Epoch   0 Batch  294/538 - Train Accuracy:  0.289, Validation Accuracy:  0.391, Loss:  1.448\n",
      "Epoch   0 Batch  295/538 - Train Accuracy:  0.372, Validation Accuracy:  0.386, Loss:  1.290\n",
      "Epoch   0 Batch  296/538 - Train Accuracy:  0.334, Validation Accuracy:  0.378, Loss:  1.355\n",
      "Epoch   0 Batch  297/538 - Train Accuracy:  0.294, Validation Accuracy:  0.382, Loss:  1.455\n",
      "Epoch   0 Batch  298/538 - Train Accuracy:  0.348, Validation Accuracy:  0.386, Loss:  1.386\n",
      "Epoch   0 Batch  299/538 - Train Accuracy:  0.343, Validation Accuracy:  0.385, Loss:  1.369\n",
      "Epoch   0 Batch  300/538 - Train Accuracy:  0.344, Validation Accuracy:  0.381, Loss:  1.309\n",
      "Epoch   0 Batch  301/538 - Train Accuracy:  0.335, Validation Accuracy:  0.390, Loss:  1.393\n",
      "Epoch   0 Batch  302/538 - Train Accuracy:  0.373, Validation Accuracy:  0.397, Loss:  1.300\n",
      "Epoch   0 Batch  303/538 - Train Accuracy:  0.376, Validation Accuracy:  0.389, Loss:  1.275\n",
      "Epoch   0 Batch  304/538 - Train Accuracy:  0.313, Validation Accuracy:  0.384, Loss:  1.368\n",
      "Epoch   0 Batch  305/538 - Train Accuracy:  0.327, Validation Accuracy:  0.386, Loss:  1.317\n",
      "Epoch   0 Batch  306/538 - Train Accuracy:  0.340, Validation Accuracy:  0.390, Loss:  1.328\n",
      "Epoch   0 Batch  307/538 - Train Accuracy:  0.322, Validation Accuracy:  0.386, Loss:  1.345\n",
      "Epoch   0 Batch  308/538 - Train Accuracy:  0.326, Validation Accuracy:  0.378, Loss:  1.326\n",
      "Epoch   0 Batch  309/538 - Train Accuracy:  0.289, Validation Accuracy:  0.377, Loss:  1.388\n",
      "Epoch   0 Batch  310/538 - Train Accuracy:  0.292, Validation Accuracy:  0.378, Loss:  1.346\n",
      "Epoch   0 Batch  311/538 - Train Accuracy:  0.335, Validation Accuracy:  0.376, Loss:  1.290\n",
      "Epoch   0 Batch  312/538 - Train Accuracy:  0.363, Validation Accuracy:  0.374, Loss:  1.245\n",
      "Epoch   0 Batch  313/538 - Train Accuracy:  0.303, Validation Accuracy:  0.375, Loss:  1.370\n",
      "Epoch   0 Batch  314/538 - Train Accuracy:  0.309, Validation Accuracy:  0.374, Loss:  1.324\n",
      "Epoch   0 Batch  315/538 - Train Accuracy:  0.323, Validation Accuracy:  0.372, Loss:  1.310\n",
      "Epoch   0 Batch  316/538 - Train Accuracy:  0.327, Validation Accuracy:  0.373, Loss:  1.312\n",
      "Epoch   0 Batch  317/538 - Train Accuracy:  0.294, Validation Accuracy:  0.370, Loss:  1.360\n",
      "Epoch   0 Batch  318/538 - Train Accuracy:  0.316, Validation Accuracy:  0.369, Loss:  1.423\n",
      "Epoch   0 Batch  319/538 - Train Accuracy:  0.335, Validation Accuracy:  0.368, Loss:  1.316\n",
      "Epoch   0 Batch  320/538 - Train Accuracy:  0.315, Validation Accuracy:  0.363, Loss:  1.553\n",
      "Epoch   0 Batch  321/538 - Train Accuracy:  0.333, Validation Accuracy:  0.371, Loss:  1.334\n",
      "Epoch   0 Batch  322/538 - Train Accuracy:  0.326, Validation Accuracy:  0.368, Loss:  1.406\n",
      "Epoch   0 Batch  323/538 - Train Accuracy:  0.310, Validation Accuracy:  0.364, Loss:  1.367\n",
      "Epoch   0 Batch  324/538 - Train Accuracy:  0.292, Validation Accuracy:  0.374, Loss:  1.434\n",
      "Epoch   0 Batch  325/538 - Train Accuracy:  0.316, Validation Accuracy:  0.364, Loss:  1.355\n",
      "Epoch   0 Batch  326/538 - Train Accuracy:  0.291, Validation Accuracy:  0.357, Loss:  1.342\n",
      "Epoch   0 Batch  327/538 - Train Accuracy:  0.297, Validation Accuracy:  0.374, Loss:  1.423\n",
      "Epoch   0 Batch  328/538 - Train Accuracy:  0.319, Validation Accuracy:  0.370, Loss:  1.347\n",
      "Epoch   0 Batch  329/538 - Train Accuracy:  0.317, Validation Accuracy:  0.364, Loss:  1.319\n",
      "Epoch   0 Batch  330/538 - Train Accuracy:  0.336, Validation Accuracy:  0.370, Loss:  1.327\n",
      "Epoch   0 Batch  331/538 - Train Accuracy:  0.290, Validation Accuracy:  0.367, Loss:  1.343\n",
      "Epoch   0 Batch  332/538 - Train Accuracy:  0.279, Validation Accuracy:  0.359, Loss:  1.366\n",
      "Epoch   0 Batch  333/538 - Train Accuracy:  0.331, Validation Accuracy:  0.368, Loss:  1.365\n",
      "Epoch   0 Batch  334/538 - Train Accuracy:  0.370, Validation Accuracy:  0.371, Loss:  1.247\n",
      "Epoch   0 Batch  335/538 - Train Accuracy:  0.328, Validation Accuracy:  0.364, Loss:  1.304\n",
      "Epoch   0 Batch  336/538 - Train Accuracy:  0.329, Validation Accuracy:  0.372, Loss:  1.360\n",
      "Epoch   0 Batch  337/538 - Train Accuracy:  0.337, Validation Accuracy:  0.382, Loss:  1.273\n",
      "Epoch   0 Batch  338/538 - Train Accuracy:  0.325, Validation Accuracy:  0.366, Loss:  1.345\n",
      "Epoch   0 Batch  339/538 - Train Accuracy:  0.315, Validation Accuracy:  0.363, Loss:  1.283\n",
      "Epoch   0 Batch  340/538 - Train Accuracy:  0.297, Validation Accuracy:  0.387, Loss:  1.363\n",
      "Epoch   0 Batch  341/538 - Train Accuracy:  0.317, Validation Accuracy:  0.384, Loss:  1.318\n",
      "Epoch   0 Batch  342/538 - Train Accuracy:  0.324, Validation Accuracy:  0.362, Loss:  1.304\n",
      "Epoch   0 Batch  343/538 - Train Accuracy:  0.310, Validation Accuracy:  0.373, Loss:  1.369\n",
      "Epoch   0 Batch  344/538 - Train Accuracy:  0.279, Validation Accuracy:  0.373, Loss:  1.325\n",
      "Epoch   0 Batch  345/538 - Train Accuracy:  0.320, Validation Accuracy:  0.365, Loss:  1.295\n",
      "Epoch   0 Batch  346/538 - Train Accuracy:  0.336, Validation Accuracy:  0.372, Loss:  1.326\n",
      "Epoch   0 Batch  347/538 - Train Accuracy:  0.312, Validation Accuracy:  0.376, Loss:  1.342\n",
      "Epoch   0 Batch  348/538 - Train Accuracy:  0.320, Validation Accuracy:  0.368, Loss:  1.280\n",
      "Epoch   0 Batch  349/538 - Train Accuracy:  0.273, Validation Accuracy:  0.358, Loss:  1.308\n",
      "Epoch   0 Batch  350/538 - Train Accuracy:  0.311, Validation Accuracy:  0.361, Loss:  1.326\n",
      "Epoch   0 Batch  351/538 - Train Accuracy:  0.283, Validation Accuracy:  0.361, Loss:  1.337\n",
      "Epoch   0 Batch  352/538 - Train Accuracy:  0.313, Validation Accuracy:  0.359, Loss:  1.258\n",
      "Epoch   0 Batch  353/538 - Train Accuracy:  0.292, Validation Accuracy:  0.358, Loss:  1.300\n",
      "Epoch   0 Batch  354/538 - Train Accuracy:  0.276, Validation Accuracy:  0.361, Loss:  1.304\n",
      "Epoch   0 Batch  355/538 - Train Accuracy:  0.281, Validation Accuracy:  0.360, Loss:  1.357\n",
      "Epoch   0 Batch  356/538 - Train Accuracy:  0.337, Validation Accuracy:  0.360, Loss:  1.209\n",
      "Epoch   0 Batch  357/538 - Train Accuracy:  0.294, Validation Accuracy:  0.358, Loss:  1.297\n",
      "Epoch   0 Batch  358/538 - Train Accuracy:  0.283, Validation Accuracy:  0.358, Loss:  1.288\n",
      "Epoch   0 Batch  359/538 - Train Accuracy:  0.320, Validation Accuracy:  0.360, Loss:  1.207\n",
      "Epoch   0 Batch  360/538 - Train Accuracy:  0.286, Validation Accuracy:  0.358, Loss:  1.293\n",
      "Epoch   0 Batch  361/538 - Train Accuracy:  0.316, Validation Accuracy:  0.359, Loss:  1.227\n",
      "Epoch   0 Batch  362/538 - Train Accuracy:  0.320, Validation Accuracy:  0.365, Loss:  1.195\n",
      "Epoch   0 Batch  363/538 - Train Accuracy:  0.340, Validation Accuracy:  0.364, Loss:  1.223\n",
      "Epoch   0 Batch  364/538 - Train Accuracy:  0.287, Validation Accuracy:  0.359, Loss:  1.276\n",
      "Epoch   0 Batch  365/538 - Train Accuracy:  0.328, Validation Accuracy:  0.370, Loss:  1.317\n",
      "Epoch   0 Batch  366/538 - Train Accuracy:  0.296, Validation Accuracy:  0.369, Loss:  1.315\n",
      "Epoch   0 Batch  367/538 - Train Accuracy:  0.289, Validation Accuracy:  0.363, Loss:  1.237\n",
      "Epoch   0 Batch  368/538 - Train Accuracy:  0.393, Validation Accuracy:  0.365, Loss:  1.117\n",
      "Epoch   0 Batch  369/538 - Train Accuracy:  0.291, Validation Accuracy:  0.366, Loss:  1.241\n",
      "Epoch   0 Batch  370/538 - Train Accuracy:  0.280, Validation Accuracy:  0.358, Loss:  1.294\n",
      "Epoch   0 Batch  371/538 - Train Accuracy:  0.330, Validation Accuracy:  0.358, Loss:  1.245\n",
      "Epoch   0 Batch  372/538 - Train Accuracy:  0.305, Validation Accuracy:  0.358, Loss:  1.254\n",
      "Epoch   0 Batch  373/538 - Train Accuracy:  0.285, Validation Accuracy:  0.357, Loss:  1.226\n",
      "Epoch   0 Batch  374/538 - Train Accuracy:  0.278, Validation Accuracy:  0.356, Loss:  1.287\n",
      "Epoch   0 Batch  375/538 - Train Accuracy:  0.331, Validation Accuracy:  0.360, Loss:  1.186\n",
      "Epoch   0 Batch  376/538 - Train Accuracy:  0.292, Validation Accuracy:  0.362, Loss:  1.254\n",
      "Epoch   0 Batch  377/538 - Train Accuracy:  0.307, Validation Accuracy:  0.359, Loss:  1.234\n",
      "Epoch   0 Batch  378/538 - Train Accuracy:  0.323, Validation Accuracy:  0.359, Loss:  1.190\n",
      "Epoch   0 Batch  379/538 - Train Accuracy:  0.333, Validation Accuracy:  0.362, Loss:  1.197\n",
      "Epoch   0 Batch  380/538 - Train Accuracy:  0.292, Validation Accuracy:  0.357, Loss:  1.255\n",
      "Epoch   0 Batch  381/538 - Train Accuracy:  0.322, Validation Accuracy:  0.362, Loss:  1.214\n",
      "Epoch   0 Batch  382/538 - Train Accuracy:  0.283, Validation Accuracy:  0.367, Loss:  1.223\n",
      "Epoch   0 Batch  383/538 - Train Accuracy:  0.289, Validation Accuracy:  0.360, Loss:  1.269\n",
      "Epoch   0 Batch  384/538 - Train Accuracy:  0.313, Validation Accuracy:  0.358, Loss:  1.219\n",
      "Epoch   0 Batch  385/538 - Train Accuracy:  0.313, Validation Accuracy:  0.364, Loss:  1.222\n",
      "Epoch   0 Batch  386/538 - Train Accuracy:  0.299, Validation Accuracy:  0.359, Loss:  1.288\n",
      "Epoch   0 Batch  387/538 - Train Accuracy:  0.286, Validation Accuracy:  0.355, Loss:  1.232\n",
      "Epoch   0 Batch  388/538 - Train Accuracy:  0.315, Validation Accuracy:  0.357, Loss:  1.230\n",
      "Epoch   0 Batch  389/538 - Train Accuracy:  0.296, Validation Accuracy:  0.357, Loss:  1.289\n",
      "Epoch   0 Batch  390/538 - Train Accuracy:  0.299, Validation Accuracy:  0.355, Loss:  1.174\n",
      "Epoch   0 Batch  391/538 - Train Accuracy:  0.314, Validation Accuracy:  0.360, Loss:  1.254\n",
      "Epoch   0 Batch  392/538 - Train Accuracy:  0.304, Validation Accuracy:  0.362, Loss:  1.187\n",
      "Epoch   0 Batch  393/538 - Train Accuracy:  0.327, Validation Accuracy:  0.359, Loss:  1.172\n",
      "Epoch   0 Batch  394/538 - Train Accuracy:  0.272, Validation Accuracy:  0.358, Loss:  1.245\n",
      "Epoch   0 Batch  395/538 - Train Accuracy:  0.301, Validation Accuracy:  0.365, Loss:  1.263\n",
      "Epoch   0 Batch  396/538 - Train Accuracy:  0.282, Validation Accuracy:  0.366, Loss:  1.198\n",
      "Epoch   0 Batch  397/538 - Train Accuracy:  0.281, Validation Accuracy:  0.357, Loss:  1.273\n",
      "Epoch   0 Batch  398/538 - Train Accuracy:  0.275, Validation Accuracy:  0.358, Loss:  1.242\n",
      "Epoch   0 Batch  399/538 - Train Accuracy:  0.277, Validation Accuracy:  0.362, Loss:  1.282\n",
      "Epoch   0 Batch  400/538 - Train Accuracy:  0.313, Validation Accuracy:  0.359, Loss:  1.203\n",
      "Epoch   0 Batch  401/538 - Train Accuracy:  0.288, Validation Accuracy:  0.358, Loss:  1.214\n",
      "Epoch   0 Batch  402/538 - Train Accuracy:  0.299, Validation Accuracy:  0.362, Loss:  1.224\n",
      "Epoch   0 Batch  403/538 - Train Accuracy:  0.294, Validation Accuracy:  0.362, Loss:  1.231\n",
      "Epoch   0 Batch  404/538 - Train Accuracy:  0.326, Validation Accuracy:  0.360, Loss:  1.145\n",
      "Epoch   0 Batch  405/538 - Train Accuracy:  0.316, Validation Accuracy:  0.362, Loss:  1.174\n",
      "Epoch   0 Batch  406/538 - Train Accuracy:  0.313, Validation Accuracy:  0.361, Loss:  1.156\n",
      "Epoch   0 Batch  407/538 - Train Accuracy:  0.300, Validation Accuracy:  0.358, Loss:  1.161\n",
      "Epoch   0 Batch  408/538 - Train Accuracy:  0.290, Validation Accuracy:  0.359, Loss:  1.289\n",
      "Epoch   0 Batch  409/538 - Train Accuracy:  0.269, Validation Accuracy:  0.360, Loss:  1.166\n",
      "Epoch   0 Batch  410/538 - Train Accuracy:  0.304, Validation Accuracy:  0.359, Loss:  1.184\n",
      "Epoch   0 Batch  411/538 - Train Accuracy:  0.323, Validation Accuracy:  0.358, Loss:  1.137\n",
      "Epoch   0 Batch  412/538 - Train Accuracy:  0.312, Validation Accuracy:  0.358, Loss:  1.118\n",
      "Epoch   0 Batch  413/538 - Train Accuracy:  0.273, Validation Accuracy:  0.358, Loss:  1.220\n",
      "Epoch   0 Batch  414/538 - Train Accuracy:  0.290, Validation Accuracy:  0.358, Loss:  1.203\n",
      "Epoch   0 Batch  415/538 - Train Accuracy:  0.271, Validation Accuracy:  0.359, Loss:  1.206\n",
      "Epoch   0 Batch  416/538 - Train Accuracy:  0.346, Validation Accuracy:  0.359, Loss:  1.104\n",
      "Epoch   0 Batch  417/538 - Train Accuracy:  0.295, Validation Accuracy:  0.357, Loss:  1.209\n",
      "Epoch   0 Batch  418/538 - Train Accuracy:  0.287, Validation Accuracy:  0.356, Loss:  1.204\n",
      "Epoch   0 Batch  419/538 - Train Accuracy:  0.281, Validation Accuracy:  0.356, Loss:  1.143\n",
      "Epoch   0 Batch  420/538 - Train Accuracy:  0.284, Validation Accuracy:  0.355, Loss:  1.178\n",
      "Epoch   0 Batch  421/538 - Train Accuracy:  0.313, Validation Accuracy:  0.355, Loss:  1.127\n",
      "Epoch   0 Batch  422/538 - Train Accuracy:  0.291, Validation Accuracy:  0.355, Loss:  1.168\n",
      "Epoch   0 Batch  423/538 - Train Accuracy:  0.290, Validation Accuracy:  0.355, Loss:  1.175\n",
      "Epoch   0 Batch  424/538 - Train Accuracy:  0.304, Validation Accuracy:  0.357, Loss:  1.127\n",
      "Epoch   0 Batch  425/538 - Train Accuracy:  0.323, Validation Accuracy:  0.359, Loss:  1.111\n",
      "Epoch   0 Batch  426/538 - Train Accuracy:  0.304, Validation Accuracy:  0.358, Loss:  1.150\n",
      "Epoch   0 Batch  427/538 - Train Accuracy:  0.275, Validation Accuracy:  0.359, Loss:  1.145\n",
      "Epoch   0 Batch  428/538 - Train Accuracy:  0.318, Validation Accuracy:  0.360, Loss:  1.093\n",
      "Epoch   0 Batch  429/538 - Train Accuracy:  0.323, Validation Accuracy:  0.359, Loss:  1.109\n",
      "Epoch   0 Batch  430/538 - Train Accuracy:  0.287, Validation Accuracy:  0.359, Loss:  1.147\n",
      "Epoch   0 Batch  431/538 - Train Accuracy:  0.301, Validation Accuracy:  0.359, Loss:  1.129\n",
      "Epoch   0 Batch  432/538 - Train Accuracy:  0.358, Validation Accuracy:  0.356, Loss:  1.063\n",
      "Epoch   0 Batch  433/538 - Train Accuracy:  0.284, Validation Accuracy:  0.355, Loss:  1.173\n",
      "Epoch   0 Batch  434/538 - Train Accuracy:  0.280, Validation Accuracy:  0.354, Loss:  1.169\n",
      "Epoch   0 Batch  435/538 - Train Accuracy:  0.274, Validation Accuracy:  0.355, Loss:  1.131\n",
      "Epoch   0 Batch  436/538 - Train Accuracy:  0.288, Validation Accuracy:  0.355, Loss:  1.147\n",
      "Epoch   0 Batch  437/538 - Train Accuracy:  0.281, Validation Accuracy:  0.356, Loss:  1.144\n",
      "Epoch   0 Batch  438/538 - Train Accuracy:  0.289, Validation Accuracy:  0.357, Loss:  1.108\n",
      "Epoch   0 Batch  439/538 - Train Accuracy:  0.297, Validation Accuracy:  0.357, Loss:  1.098\n",
      "Epoch   0 Batch  440/538 - Train Accuracy:  0.286, Validation Accuracy:  0.357, Loss:  1.150\n",
      "Epoch   0 Batch  441/538 - Train Accuracy:  0.277, Validation Accuracy:  0.358, Loss:  1.155\n",
      "Epoch   0 Batch  442/538 - Train Accuracy:  0.332, Validation Accuracy:  0.357, Loss:  1.016\n",
      "Epoch   0 Batch  443/538 - Train Accuracy:  0.318, Validation Accuracy:  0.358, Loss:  1.145\n",
      "Epoch   0 Batch  444/538 - Train Accuracy:  0.328, Validation Accuracy:  0.358, Loss:  1.036\n",
      "Epoch   0 Batch  445/538 - Train Accuracy:  0.284, Validation Accuracy:  0.357, Loss:  1.081\n",
      "Epoch   0 Batch  446/538 - Train Accuracy:  0.327, Validation Accuracy:  0.358, Loss:  1.058\n",
      "Epoch   0 Batch  447/538 - Train Accuracy:  0.279, Validation Accuracy:  0.356, Loss:  1.105\n",
      "Epoch   0 Batch  448/538 - Train Accuracy:  0.321, Validation Accuracy:  0.356, Loss:  1.043\n",
      "Epoch   0 Batch  449/538 - Train Accuracy:  0.282, Validation Accuracy:  0.355, Loss:  1.150\n",
      "Epoch   0 Batch  450/538 - Train Accuracy:  0.330, Validation Accuracy:  0.356, Loss:  1.101\n",
      "Epoch   0 Batch  451/538 - Train Accuracy:  0.284, Validation Accuracy:  0.356, Loss:  1.105\n",
      "Epoch   0 Batch  452/538 - Train Accuracy:  0.282, Validation Accuracy:  0.356, Loss:  1.088\n",
      "Epoch   0 Batch  453/538 - Train Accuracy:  0.287, Validation Accuracy:  0.356, Loss:  1.118\n",
      "Epoch   0 Batch  454/538 - Train Accuracy:  0.325, Validation Accuracy:  0.357, Loss:  1.075\n",
      "Epoch   0 Batch  455/538 - Train Accuracy:  0.357, Validation Accuracy:  0.355, Loss:  1.006\n",
      "Epoch   0 Batch  456/538 - Train Accuracy:  0.411, Validation Accuracy:  0.354, Loss:  0.952\n",
      "Epoch   0 Batch  457/538 - Train Accuracy:  0.277, Validation Accuracy:  0.353, Loss:  1.099\n",
      "Epoch   0 Batch  458/538 - Train Accuracy:  0.313, Validation Accuracy:  0.353, Loss:  1.065\n",
      "Epoch   0 Batch  459/538 - Train Accuracy:  0.285, Validation Accuracy:  0.353, Loss:  1.085\n",
      "Epoch   0 Batch  460/538 - Train Accuracy:  0.322, Validation Accuracy:  0.353, Loss:  1.079\n",
      "Epoch   0 Batch  461/538 - Train Accuracy:  0.242, Validation Accuracy:  0.353, Loss:  1.171\n",
      "Epoch   0 Batch  462/538 - Train Accuracy:  0.298, Validation Accuracy:  0.352, Loss:  1.069\n",
      "Epoch   0 Batch  463/538 - Train Accuracy:  0.286, Validation Accuracy:  0.349, Loss:  1.118\n",
      "Epoch   0 Batch  464/538 - Train Accuracy:  0.279, Validation Accuracy:  0.353, Loss:  1.124\n",
      "Epoch   0 Batch  465/538 - Train Accuracy:  0.274, Validation Accuracy:  0.352, Loss:  1.125\n",
      "Epoch   0 Batch  466/538 - Train Accuracy:  0.254, Validation Accuracy:  0.352, Loss:  1.089\n",
      "Epoch   0 Batch  467/538 - Train Accuracy:  0.299, Validation Accuracy:  0.354, Loss:  1.067\n",
      "Epoch   0 Batch  468/538 - Train Accuracy:  0.289, Validation Accuracy:  0.350, Loss:  1.198\n",
      "Epoch   0 Batch  469/538 - Train Accuracy:  0.278, Validation Accuracy:  0.354, Loss:  1.177\n",
      "Epoch   0 Batch  470/538 - Train Accuracy:  0.308, Validation Accuracy:  0.354, Loss:  1.041\n",
      "Epoch   0 Batch  471/538 - Train Accuracy:  0.309, Validation Accuracy:  0.354, Loss:  1.103\n",
      "Epoch   0 Batch  472/538 - Train Accuracy:  0.292, Validation Accuracy:  0.355, Loss:  1.104\n",
      "Epoch   0 Batch  473/538 - Train Accuracy:  0.280, Validation Accuracy:  0.358, Loss:  1.096\n",
      "Epoch   0 Batch  474/538 - Train Accuracy:  0.316, Validation Accuracy:  0.359, Loss:  1.040\n",
      "Epoch   0 Batch  475/538 - Train Accuracy:  0.329, Validation Accuracy:  0.357, Loss:  1.084\n",
      "Epoch   0 Batch  476/538 - Train Accuracy:  0.275, Validation Accuracy:  0.355, Loss:  1.096\n",
      "Epoch   0 Batch  477/538 - Train Accuracy:  0.298, Validation Accuracy:  0.357, Loss:  1.101\n",
      "Epoch   0 Batch  478/538 - Train Accuracy:  0.316, Validation Accuracy:  0.357, Loss:  1.048\n",
      "Epoch   0 Batch  479/538 - Train Accuracy:  0.326, Validation Accuracy:  0.355, Loss:  1.064\n",
      "Epoch   0 Batch  480/538 - Train Accuracy:  0.310, Validation Accuracy:  0.354, Loss:  1.016\n",
      "Epoch   0 Batch  481/538 - Train Accuracy:  0.320, Validation Accuracy:  0.354, Loss:  1.082\n",
      "Epoch   0 Batch  482/538 - Train Accuracy:  0.362, Validation Accuracy:  0.355, Loss:  0.955\n",
      "Epoch   0 Batch  483/538 - Train Accuracy:  0.300, Validation Accuracy:  0.355, Loss:  1.075\n",
      "Epoch   0 Batch  484/538 - Train Accuracy:  0.323, Validation Accuracy:  0.356, Loss:  1.060\n",
      "Epoch   0 Batch  485/538 - Train Accuracy:  0.317, Validation Accuracy:  0.354, Loss:  1.024\n",
      "Epoch   0 Batch  486/538 - Train Accuracy:  0.294, Validation Accuracy:  0.357, Loss:  1.017\n",
      "Epoch   0 Batch  487/538 - Train Accuracy:  0.317, Validation Accuracy:  0.357, Loss:  0.998\n",
      "Epoch   0 Batch  488/538 - Train Accuracy:  0.299, Validation Accuracy:  0.354, Loss:  1.033\n",
      "Epoch   0 Batch  489/538 - Train Accuracy:  0.276, Validation Accuracy:  0.353, Loss:  1.051\n",
      "Epoch   0 Batch  490/538 - Train Accuracy:  0.311, Validation Accuracy:  0.351, Loss:  1.001\n",
      "Epoch   0 Batch  491/538 - Train Accuracy:  0.271, Validation Accuracy:  0.352, Loss:  1.065\n",
      "Epoch   0 Batch  492/538 - Train Accuracy:  0.282, Validation Accuracy:  0.352, Loss:  1.055\n",
      "Epoch   0 Batch  493/538 - Train Accuracy:  0.311, Validation Accuracy:  0.352, Loss:  1.018\n",
      "Epoch   0 Batch  494/538 - Train Accuracy:  0.294, Validation Accuracy:  0.351, Loss:  1.078\n",
      "Epoch   0 Batch  495/538 - Train Accuracy:  0.282, Validation Accuracy:  0.350, Loss:  1.040\n",
      "Epoch   0 Batch  496/538 - Train Accuracy:  0.285, Validation Accuracy:  0.352, Loss:  1.027\n",
      "Epoch   0 Batch  497/538 - Train Accuracy:  0.323, Validation Accuracy:  0.354, Loss:  0.983\n",
      "Epoch   0 Batch  498/538 - Train Accuracy:  0.275, Validation Accuracy:  0.354, Loss:  1.030\n",
      "Epoch   0 Batch  499/538 - Train Accuracy:  0.318, Validation Accuracy:  0.353, Loss:  0.991\n",
      "Epoch   0 Batch  500/538 - Train Accuracy:  0.337, Validation Accuracy:  0.354, Loss:  0.956\n",
      "Epoch   0 Batch  501/538 - Train Accuracy:  0.319, Validation Accuracy:  0.355, Loss:  1.006\n"
     ]
    },
    {
     "ename": "KeyboardInterrupt",
     "evalue": "",
     "output_type": "error",
     "traceback": [
      "\u001b[0;31m---------------------------------------------------------------------------\u001b[0m",
      "\u001b[0;31mKeyboardInterrupt\u001b[0m                         Traceback (most recent call last)",
      "\u001b[0;32m<ipython-input-54-29c4deffcdd2>\u001b[0m in \u001b[0;36m<module>\u001b[0;34m()\u001b[0m\n\u001b[1;32m     51\u001b[0m                 {input_data: valid_source, keep_prob: 1.0})\n\u001b[1;32m     52\u001b[0m \u001b[0;34m\u001b[0m\u001b[0m\n\u001b[0;32m---> 53\u001b[0;31m             \u001b[0mtrain_acc\u001b[0m \u001b[0;34m=\u001b[0m \u001b[0mget_accuracy\u001b[0m\u001b[0;34m(\u001b[0m\u001b[0mtarget_batch\u001b[0m\u001b[0;34m,\u001b[0m \u001b[0mbatch_train_logits\u001b[0m\u001b[0;34m)\u001b[0m\u001b[0;34m\u001b[0m\u001b[0m\n\u001b[0m\u001b[1;32m     54\u001b[0m             \u001b[0mvalid_acc\u001b[0m \u001b[0;34m=\u001b[0m \u001b[0mget_accuracy\u001b[0m\u001b[0;34m(\u001b[0m\u001b[0mnp\u001b[0m\u001b[0;34m.\u001b[0m\u001b[0marray\u001b[0m\u001b[0;34m(\u001b[0m\u001b[0mvalid_target\u001b[0m\u001b[0;34m)\u001b[0m\u001b[0;34m,\u001b[0m \u001b[0mbatch_valid_logits\u001b[0m\u001b[0;34m)\u001b[0m\u001b[0;34m\u001b[0m\u001b[0m\n\u001b[1;32m     55\u001b[0m             \u001b[0mend_time\u001b[0m \u001b[0;34m=\u001b[0m \u001b[0mtime\u001b[0m\u001b[0;34m.\u001b[0m\u001b[0mtime\u001b[0m\u001b[0;34m(\u001b[0m\u001b[0;34m)\u001b[0m\u001b[0;34m\u001b[0m\u001b[0m\n",
      "\u001b[0;32m<ipython-input-54-29c4deffcdd2>\u001b[0m in \u001b[0;36mget_accuracy\u001b[0;34m(target, logits)\u001b[0m\n\u001b[1;32m     18\u001b[0m             \u001b[0mlogits\u001b[0m\u001b[0;34m,\u001b[0m\u001b[0;34m\u001b[0m\u001b[0m\n\u001b[1;32m     19\u001b[0m             \u001b[0;34m[\u001b[0m\u001b[0;34m(\u001b[0m\u001b[0;36m0\u001b[0m\u001b[0;34m,\u001b[0m\u001b[0;36m0\u001b[0m\u001b[0;34m)\u001b[0m\u001b[0;34m,\u001b[0m\u001b[0;34m(\u001b[0m\u001b[0;36m0\u001b[0m\u001b[0;34m,\u001b[0m\u001b[0mmax_seq\u001b[0m \u001b[0;34m-\u001b[0m \u001b[0mlogits\u001b[0m\u001b[0;34m.\u001b[0m\u001b[0mshape\u001b[0m\u001b[0;34m[\u001b[0m\u001b[0;36m1\u001b[0m\u001b[0;34m]\u001b[0m\u001b[0;34m)\u001b[0m\u001b[0;34m,\u001b[0m \u001b[0;34m(\u001b[0m\u001b[0;36m0\u001b[0m\u001b[0;34m,\u001b[0m\u001b[0;36m0\u001b[0m\u001b[0;34m)\u001b[0m\u001b[0;34m]\u001b[0m\u001b[0;34m,\u001b[0m\u001b[0;34m\u001b[0m\u001b[0m\n\u001b[0;32m---> 20\u001b[0;31m             'constant')\n\u001b[0m\u001b[1;32m     21\u001b[0m \u001b[0;34m\u001b[0m\u001b[0m\n\u001b[1;32m     22\u001b[0m     \u001b[0;32mreturn\u001b[0m \u001b[0mnp\u001b[0m\u001b[0;34m.\u001b[0m\u001b[0mmean\u001b[0m\u001b[0;34m(\u001b[0m\u001b[0mnp\u001b[0m\u001b[0;34m.\u001b[0m\u001b[0mequal\u001b[0m\u001b[0;34m(\u001b[0m\u001b[0mtarget\u001b[0m\u001b[0;34m,\u001b[0m \u001b[0mnp\u001b[0m\u001b[0;34m.\u001b[0m\u001b[0margmax\u001b[0m\u001b[0;34m(\u001b[0m\u001b[0mlogits\u001b[0m\u001b[0;34m,\u001b[0m \u001b[0;36m2\u001b[0m\u001b[0;34m)\u001b[0m\u001b[0;34m)\u001b[0m\u001b[0;34m)\u001b[0m\u001b[0;34m\u001b[0m\u001b[0m\n",
      "\u001b[0;32m/usr/local/lib/python3.5/site-packages/numpy/lib/arraypad.py\u001b[0m in \u001b[0;36mpad\u001b[0;34m(array, pad_width, mode, **kwargs)\u001b[0m\n\u001b[1;32m   1369\u001b[0m                 \u001b[0;32min\u001b[0m \u001b[0menumerate\u001b[0m\u001b[0;34m(\u001b[0m\u001b[0mzip\u001b[0m\u001b[0;34m(\u001b[0m\u001b[0mpad_width\u001b[0m\u001b[0;34m,\u001b[0m \u001b[0mkwargs\u001b[0m\u001b[0;34m[\u001b[0m\u001b[0;34m'constant_values'\u001b[0m\u001b[0;34m]\u001b[0m\u001b[0;34m)\u001b[0m\u001b[0;34m)\u001b[0m\u001b[0;34m:\u001b[0m\u001b[0;34m\u001b[0m\u001b[0m\n\u001b[1;32m   1370\u001b[0m             \u001b[0mnewmat\u001b[0m \u001b[0;34m=\u001b[0m \u001b[0m_prepend_const\u001b[0m\u001b[0;34m(\u001b[0m\u001b[0mnewmat\u001b[0m\u001b[0;34m,\u001b[0m \u001b[0mpad_before\u001b[0m\u001b[0;34m,\u001b[0m \u001b[0mbefore_val\u001b[0m\u001b[0;34m,\u001b[0m \u001b[0maxis\u001b[0m\u001b[0;34m)\u001b[0m\u001b[0;34m\u001b[0m\u001b[0m\n\u001b[0;32m-> 1371\u001b[0;31m             \u001b[0mnewmat\u001b[0m \u001b[0;34m=\u001b[0m \u001b[0m_append_const\u001b[0m\u001b[0;34m(\u001b[0m\u001b[0mnewmat\u001b[0m\u001b[0;34m,\u001b[0m \u001b[0mpad_after\u001b[0m\u001b[0;34m,\u001b[0m \u001b[0mafter_val\u001b[0m\u001b[0;34m,\u001b[0m \u001b[0maxis\u001b[0m\u001b[0;34m)\u001b[0m\u001b[0;34m\u001b[0m\u001b[0m\n\u001b[0m\u001b[1;32m   1372\u001b[0m \u001b[0;34m\u001b[0m\u001b[0m\n\u001b[1;32m   1373\u001b[0m     \u001b[0;32melif\u001b[0m \u001b[0mmode\u001b[0m \u001b[0;34m==\u001b[0m \u001b[0;34m'edge'\u001b[0m\u001b[0;34m:\u001b[0m\u001b[0;34m\u001b[0m\u001b[0m\n",
      "\u001b[0;32m/usr/local/lib/python3.5/site-packages/numpy/lib/arraypad.py\u001b[0m in \u001b[0;36m_append_const\u001b[0;34m(arr, pad_amt, val, axis)\u001b[0m\n\u001b[1;32m    137\u001b[0m     \u001b[0;32mif\u001b[0m \u001b[0mval\u001b[0m \u001b[0;34m==\u001b[0m \u001b[0;36m0\u001b[0m\u001b[0;34m:\u001b[0m\u001b[0;34m\u001b[0m\u001b[0m\n\u001b[1;32m    138\u001b[0m         return np.concatenate((arr, np.zeros(padshape, dtype=arr.dtype)),\n\u001b[0;32m--> 139\u001b[0;31m                               axis=axis)\n\u001b[0m\u001b[1;32m    140\u001b[0m     \u001b[0;32melse\u001b[0m\u001b[0;34m:\u001b[0m\u001b[0;34m\u001b[0m\u001b[0m\n\u001b[1;32m    141\u001b[0m         return np.concatenate(\n",
      "\u001b[0;31mKeyboardInterrupt\u001b[0m: "
     ]
    }
   ],
   "source": [
    "\"\"\"\n",
    "DON'T MODIFY ANYTHING IN THIS CELL\n",
    "\"\"\"\n",
    "import time\n",
    "\n",
    "def get_accuracy(target, logits):\n",
    "    \"\"\"\n",
    "    Calculate accuracy\n",
    "    \"\"\"\n",
    "    max_seq = max(target.shape[1], logits.shape[1])\n",
    "    if max_seq - target.shape[1]:\n",
    "        target = np.pad(\n",
    "            target_batch,\n",
    "            [(0,0),(0,max_seq - target_batch.shape[1]), (0,0)],\n",
    "            'constant')\n",
    "    if max_seq - batch_train_logits.shape[1]:\n",
    "        logits = np.pad(\n",
    "            logits,\n",
    "            [(0,0),(0,max_seq - logits.shape[1]), (0,0)],\n",
    "            'constant')\n",
    "\n",
    "    return np.mean(np.equal(target, np.argmax(logits, 2)))\n",
    "\n",
    "train_source = source_int_text[batch_size:]\n",
    "train_target = target_int_text[batch_size:]\n",
    "\n",
    "valid_source = helper.pad_sentence_batch(source_int_text[:batch_size])\n",
    "valid_target = helper.pad_sentence_batch(target_int_text[:batch_size])\n",
    "\n",
    "with tf.Session(graph=train_graph) as sess:\n",
    "    sess.run(tf.global_variables_initializer())\n",
    "\n",
    "    for epoch_i in range(epochs):\n",
    "        for batch_i, (source_batch, target_batch) in enumerate(\n",
    "                helper.batch_data(train_source, train_target, batch_size)):\n",
    "            start_time = time.time()\n",
    "            \n",
    "            _, loss = sess.run(\n",
    "                [train_op, cost],\n",
    "                {input_data: source_batch,\n",
    "                 targets: target_batch,\n",
    "                 lr: learning_rate,\n",
    "                 sequence_length: target_batch.shape[1],\n",
    "                 keep_prob: keep_probability})\n",
    "            \n",
    "            batch_train_logits = sess.run(\n",
    "                inference_logits,\n",
    "                {input_data: source_batch, keep_prob: 1.0})\n",
    "            batch_valid_logits = sess.run(\n",
    "                inference_logits,\n",
    "                {input_data: valid_source, keep_prob: 1.0})\n",
    "                \n",
    "            train_acc = get_accuracy(target_batch, batch_train_logits)\n",
    "            valid_acc = get_accuracy(np.array(valid_target), batch_valid_logits)\n",
    "            end_time = time.time()\n",
    "            print('Epoch {:>3} Batch {:>4}/{} - Train Accuracy: {:>6.3f}, Validation Accuracy: {:>6.3f}, Loss: {:>6.3f}'\n",
    "                  .format(epoch_i, batch_i, len(source_int_text) // batch_size, train_acc, valid_acc, loss))\n",
    "\n",
    "    # Save Model\n",
    "    saver = tf.train.Saver()\n",
    "    saver.save(sess, save_path)\n",
    "    print('Model Trained and Saved')"
   ]
  },
  {
   "cell_type": "markdown",
   "metadata": {
    "deletable": true,
    "editable": true
   },
   "source": [
    "### Save Parameters\n",
    "Save the `batch_size` and `save_path` parameters for inference."
   ]
  },
  {
   "cell_type": "code",
   "execution_count": null,
   "metadata": {
    "collapsed": false,
    "deletable": true,
    "editable": true
   },
   "outputs": [],
   "source": [
    "\"\"\"\n",
    "DON'T MODIFY ANYTHING IN THIS CELL\n",
    "\"\"\"\n",
    "# Save parameters for checkpoint\n",
    "helper.save_params(save_path)"
   ]
  },
  {
   "cell_type": "markdown",
   "metadata": {
    "deletable": true,
    "editable": true
   },
   "source": [
    "# Checkpoint"
   ]
  },
  {
   "cell_type": "code",
   "execution_count": null,
   "metadata": {
    "collapsed": false,
    "deletable": true,
    "editable": true
   },
   "outputs": [],
   "source": [
    "\"\"\"\n",
    "DON'T MODIFY ANYTHING IN THIS CELL\n",
    "\"\"\"\n",
    "import tensorflow as tf\n",
    "import numpy as np\n",
    "import helper\n",
    "import problem_unittests as tests\n",
    "\n",
    "_, (source_vocab_to_int, target_vocab_to_int), (source_int_to_vocab, target_int_to_vocab) = helper.load_preprocess()\n",
    "load_path = helper.load_params()"
   ]
  },
  {
   "cell_type": "markdown",
   "metadata": {
    "deletable": true,
    "editable": true
   },
   "source": [
    "## Sentence to Sequence\n",
    "To feed a sentence into the model for translation, you first need to preprocess it.  Implement the function `sentence_to_seq()` to preprocess new sentences.\n",
    "\n",
    "- Convert the sentence to lowercase\n",
    "- Convert words into ids using `vocab_to_int`\n",
    " - Convert words not in the vocabulary, to the `<UNK>` word id."
   ]
  },
  {
   "cell_type": "code",
   "execution_count": 84,
   "metadata": {
    "collapsed": false,
    "deletable": true,
    "editable": true
   },
   "outputs": [
    {
     "name": "stdout",
     "output_type": "stream",
     "text": [
      "Tests Passed\n"
     ]
    }
   ],
   "source": [
    "def sentence_to_seq(sentence, vocab_to_int):\n",
    "    \"\"\"\n",
    "    Convert a sentence to a sequence of ids\n",
    "    :param sentence: String\n",
    "    :param vocab_to_int: Dictionary to go from the words to an id\n",
    "    :return: List of word ids\n",
    "    \"\"\"\n",
    "    # TODO: Implement Function\n",
    "    def get_int(vocab):\n",
    "        return vocab_to_int.get(vocab, vocab_to_int[UNK_VOCAB])\n",
    "    return [get_int(word) for word in sentence.lower().split(' ')]\n",
    "\n",
    "\n",
    "\"\"\"\n",
    "DON'T MODIFY ANYTHING IN THIS CELL THAT IS BELOW THIS LINE\n",
    "\"\"\"\n",
    "tests.test_sentence_to_seq(sentence_to_seq)"
   ]
  },
  {
   "cell_type": "markdown",
   "metadata": {
    "deletable": true,
    "editable": true
   },
   "source": [
    "## Translate\n",
    "This will translate `translate_sentence` from English to French."
   ]
  },
  {
   "cell_type": "code",
   "execution_count": null,
   "metadata": {
    "collapsed": false,
    "deletable": true,
    "editable": true
   },
   "outputs": [],
   "source": [
    "translate_sentence = 'he saw a old yellow truck .'\n",
    "\n",
    "\n",
    "\"\"\"\n",
    "DON'T MODIFY ANYTHING IN THIS CELL\n",
    "\"\"\"\n",
    "translate_sentence = sentence_to_seq(translate_sentence, source_vocab_to_int)\n",
    "\n",
    "loaded_graph = tf.Graph()\n",
    "with tf.Session(graph=loaded_graph) as sess:\n",
    "    # Load saved model\n",
    "    loader = tf.train.import_meta_graph(load_path + '.meta')\n",
    "    loader.restore(sess, load_path)\n",
    "\n",
    "    input_data = loaded_graph.get_tensor_by_name('input:0')\n",
    "    logits = loaded_graph.get_tensor_by_name('logits:0')\n",
    "    keep_prob = loaded_graph.get_tensor_by_name('keep_prob:0')\n",
    "\n",
    "    translate_logits = sess.run(logits, {input_data: [translate_sentence], keep_prob: 1.0})[0]\n",
    "\n",
    "print('Input')\n",
    "print('  Word Ids:      {}'.format([i for i in translate_sentence]))\n",
    "print('  English Words: {}'.format([source_int_to_vocab[i] for i in translate_sentence]))\n",
    "\n",
    "print('\\nPrediction')\n",
    "print('  Word Ids:      {}'.format([i for i in np.argmax(translate_logits, 1)]))\n",
    "print('  French Words: {}'.format([target_int_to_vocab[i] for i in np.argmax(translate_logits, 1)]))"
   ]
  },
  {
   "cell_type": "markdown",
   "metadata": {
    "deletable": true,
    "editable": true
   },
   "source": [
    "## Imperfect Translation\n",
    "You might notice that some sentences translate better than others.  Since the dataset you're using only has a vocabulary of 227 English words of the thousands that you use, you're only going to see good results using these words.  For this project, you don't need a perfect translation. However, if you want to create a better translation model, you'll need better data.\n",
    "\n",
    "You can train on the [WMT10 French-English corpus](http://www.statmt.org/wmt10/training-giga-fren.tar).  This dataset has more vocabulary and richer in topics discussed.  However, this will take you days to train, so make sure you've a GPU and the neural network is performing well on dataset we provided.  Just make sure you play with the WMT10 corpus after you've submitted this project.\n",
    "## Submitting This Project\n",
    "When submitting this project, make sure to run all the cells before saving the notebook. Save the notebook file as \"dlnd_language_translation.ipynb\" and save it as a HTML file under \"File\" -> \"Download as\". Include the \"helper.py\" and \"problem_unittests.py\" files in your submission."
   ]
  }
 ],
 "metadata": {
  "anaconda-cloud": {},
  "kernelspec": {
   "display_name": "Python 3",
   "language": "python",
   "name": "python3"
  },
  "language_info": {
   "codemirror_mode": {
    "name": "ipython",
    "version": 3
   },
   "file_extension": ".py",
   "mimetype": "text/x-python",
   "name": "python",
   "nbconvert_exporter": "python",
   "pygments_lexer": "ipython3",
   "version": "3.5.3"
  }
 },
 "nbformat": 4,
 "nbformat_minor": 0
}
